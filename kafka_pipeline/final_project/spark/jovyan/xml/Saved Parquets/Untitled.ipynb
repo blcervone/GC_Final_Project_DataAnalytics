{
 "cells": [
  {
   "cell_type": "code",
   "execution_count": 1,
   "id": "cda94a61-f7d3-4471-b5dd-3d16f502312a",
   "metadata": {},
   "outputs": [],
   "source": [
    "import os\n",
    "import pandas as pd\n",
    "import glob\n",
    "import json\n",
    "import datetime as dt\n",
    "import xml.etree.ElementTree as ET\n",
    "import logging\n",
    "import time"
   ]
  },
  {
   "cell_type": "code",
   "execution_count": 2,
   "id": "af848c29-391e-494a-bfec-b9d7f7ea3e88",
   "metadata": {},
   "outputs": [],
   "source": [
    "PARQUET_DIRECTORY = './'\n",
    "PARQUET_FILE_THRESHOLD = 10\n",
    "POLLING_INTERVAL_SECONDS = 60 "
   ]
  },
  {
   "cell_type": "code",
   "execution_count": 10,
   "id": "09df0cc3-d42b-4f13-b1bc-2cebf324292e",
   "metadata": {},
   "outputs": [],
   "source": [
    "def parse_parquet_directory(dir_path):\n",
    "    logging.info(f'Starting to parse Parquet files in directory {dir_path}.')\n",
    "    try:\n",
    "        # Find all parquet files in the directory\n",
    "        parquet_files = glob.glob(f'{dir_path}/*.parquet')\n",
    "        logging.info('Found %s parquet files.', len(parquet_files))\n",
    "\n",
    "        all_data = []\n",
    "        for file_path in parquet_files:\n",
    "            logging.info('Parsing file: %s', file_path)\n",
    "            df = pd.read_parquet(file_path)\n",
    "\n",
    "            # Iterate over the 'value' column and parse the XML content\n",
    "            for xml_content in df['value']:\n",
    "                xml_content = xml_content.replace('\\\\\"', '\"').strip('\"')\n",
    "                parsed_data = parse_xml(xml_content)\n",
    "                all_data.extend(parsed_data)\n",
    "\n",
    "        # Convert the list of dictionaries to a dataframe\n",
    "        all_data_df = pd.DataFrame(all_data)\n",
    "        logging.info(f'Finished parsing Parquet files in directory {dir_path}.')\n",
    "        return all_data_df\n",
    "    except Exception as e:\n",
    "        logging.exception(f\"Error occurred while parsing parquet directory: {e}\")\n",
    "\n",
    "\n",
    "def parse_xml(xml_content):\n",
    "    logging.info('Starting to parse XML content.')\n",
    "    try:\n",
    "        root = ET.fromstring(xml_content)\n",
    "\n",
    "        results = []\n",
    "        for ur in root.findall('{http://www.thalesgroup.com/rtti/PushPort/v16}uR'):\n",
    "            for ts in ur.findall('{http://www.thalesgroup.com/rtti/PushPort/v16}TS'):\n",
    "                result = {\n",
    "                    'ts' : root.attrib.get('ts'),\n",
    "                    'rid': ts.attrib.get('rid'),\n",
    "                    'uid': ts.attrib.get('uid'),\n",
    "                    'ssd': ts.attrib.get('ssd'),\n",
    "                    'updateOrigin': ur.attrib.get('updateOrigin'),\n",
    "                }\n",
    "                locations = []\n",
    "                for location in ts.findall('{http://www.thalesgroup.com/rtti/PushPort/Forecasts/v3}Location'):\n",
    "                    location_data = {\n",
    "                        'tpl': location.attrib.get('tpl'),\n",
    "                        'wtp': location.attrib.get('wtp'),\n",
    "                        'wta': location.attrib.get('wta'),\n",
    "                        'wtd': location.attrib.get('wtd'),\n",
    "                        'pta': location.attrib.get('pta'),\n",
    "                        'ptd': location.attrib.get('ptd'),\n",
    "                    }\n",
    "                    # note: might want to add 'pass' here and around 112 below. it might occasionally appear\n",
    "                    # along with/instead of arr/dep.\n",
    "                    for tag in ['pass', 'arr', 'dep', 'plat', 'length']:\n",
    "                        tag_element = location.find(\"{http://www.thalesgroup.com/rtti/PushPort/Forecasts/v3}\" + tag)\n",
    "                        print(tag_element.text)\n",
    "                        if tag_element is not None:\n",
    "                            location_data[tag] = tag_element.text or tag_element.attrib\n",
    "                    locations.append(location_data)\n",
    "                result['locations'] = locations\n",
    "                results.append(result)\n",
    "        logging.info('Finished parsing XML content.')\n",
    "        return results\n",
    "    except Exception as e:\n",
    "        logging.exception(f\"Error occurred while parsing XML data: {e}\")\n",
    "\n",
    "\n",
    "def transform(df):\n",
    "    logging.info('Starting to transform data.')\n",
    "    try:\n",
    "        # explode the list column into separate rows\n",
    "        exploded_df = df.explode('locations')\n",
    "\n",
    "        # create separate columns from dictionary keys\n",
    "        final_df = exploded_df['locations'].apply(pd.Series)\n",
    "\n",
    "        # merge with the original df\n",
    "        final_df = pd.concat([exploded_df.drop('locations', axis=1), final_df], axis=1)\n",
    "\n",
    "        # reset the index of final_df\n",
    "        final_df = final_df.reset_index()\n",
    "\n",
    "        # Convert time columns to datetime.time\n",
    "        time_cols = ['wtp', 'wta', 'wtd']\n",
    "        for col in time_cols:\n",
    "            final_df[col] = final_df[col].apply(add_seconds)\n",
    "            final_df[col] = pd.to_datetime(final_df['ssd'] + ' ' + final_df[col], format='%Y-%m-%d %H:%M:%S')\n",
    "\n",
    "        final_df = final_df.loc[final_df['arr'].notnull() & final_df['dep'].notnull()]\n",
    "\n",
    "        final_df['aat'] = final_df['arr'].apply(lambda d: d.get('et'))\n",
    "        final_df['adt'] = final_df['dep'].apply(lambda d: d.get('et')) \n",
    "\n",
    "        final_df['a_delay'] = final_df['arr'].apply(lambda d: d.get('delayed'))\n",
    "        final_df['d_delay'] = final_df['dep'].apply(lambda d: d.get('delayed'))\n",
    "\n",
    "        # Convert 'delayed' to boolean\n",
    "        final_df['a_delay'] = final_df['a_delay'].map({'true': True, None: False})\n",
    "        final_df['d_delay'] = final_df['d_delay'].map({'true': True, None: False})\n",
    "\n",
    "        time_cols = ['pta', 'ptd', 'aat', 'adt']\n",
    "        for col in time_cols:\n",
    "            final_df[col] = pd.to_datetime(final_df['ssd'] + ' ' + final_df[col], format='%Y-%m-%d %H:%M')\n",
    "        \n",
    "        logging.info('Finished transforming data.')\n",
    "        # Now, you can drop the original 'index' column if you want\n",
    "        return final_df.drop(columns=['index', 'arr', 'dep'])\\\n",
    "                       .rename(columns={\n",
    "                                'rid': 'route_id',\n",
    "                                'uid': 'unique_id',\n",
    "                                'ssd': 'service_start_date',\n",
    "                                'updateOrigin': 'update_origin',\n",
    "                                'tpl': 'train_platform',\n",
    "                                'wtp': 'working_time_pass',\n",
    "                                'wta': 'working_time_arrival',\n",
    "                                'wtd': 'working_time_departure',\n",
    "                                'pta': 'planned_time_arrival',\n",
    "                                'ptd': 'planned_time_departure',\n",
    "                                'aat': 'actual_arrival_time',\n",
    "                                'adt': 'actual_departure_time',\n",
    "                                'plat': 'platform',\n",
    "                                'length': 'train_length',\n",
    "                                'et': 'estimated_time',\n",
    "                                'src': 'source',\n",
    "                                'at': 'actual_time',\n",
    "                                'atClass': 'actual_time_class',\n",
    "                                'a_delay': 'is_delayed_arrival',\n",
    "                                'd_delay': 'is_delayed_departure',\n",
    "                                'srcInst': 'source_instance',\n",
    "                                'etmin': 'estimated_time_minutes'\n",
    "                            })\n",
    "    except Exception as e:\n",
    "        logging.exception(f\"Error occurred while transforming data: {e}\")"
   ]
  },
  {
   "cell_type": "code",
   "execution_count": 11,
   "id": "32d4efcc-6af5-43bf-9037-6b61420b2567",
   "metadata": {},
   "outputs": [],
   "source": [
    "df = parse_parquet_directory(PARQUET_DIRECTORY)"
   ]
  },
  {
   "cell_type": "code",
   "execution_count": 12,
   "id": "cf760a02-0dd3-4e74-959d-10a2f32fdcb6",
   "metadata": {},
   "outputs": [
    {
     "data": {
      "text/html": [
       "<div>\n",
       "<style scoped>\n",
       "    .dataframe tbody tr th:only-of-type {\n",
       "        vertical-align: middle;\n",
       "    }\n",
       "\n",
       "    .dataframe tbody tr th {\n",
       "        vertical-align: top;\n",
       "    }\n",
       "\n",
       "    .dataframe thead th {\n",
       "        text-align: right;\n",
       "    }\n",
       "</style>\n",
       "<table border=\"1\" class=\"dataframe\">\n",
       "  <thead>\n",
       "    <tr style=\"text-align: right;\">\n",
       "      <th></th>\n",
       "      <th>rid</th>\n",
       "      <th>uid</th>\n",
       "      <th>ssd</th>\n",
       "      <th>updateOrigin</th>\n",
       "      <th>locations</th>\n",
       "    </tr>\n",
       "  </thead>\n",
       "  <tbody>\n",
       "    <tr>\n",
       "      <th>0</th>\n",
       "      <td>202403287665473</td>\n",
       "      <td>L65473</td>\n",
       "      <td>2024-03-28</td>\n",
       "      <td>TD</td>\n",
       "      <td>[{'tpl': 'REDBDGE', 'wtp': '17:15', 'wta': Non...</td>\n",
       "    </tr>\n",
       "    <tr>\n",
       "      <th>1</th>\n",
       "      <td>202403287604061</td>\n",
       "      <td>L04061</td>\n",
       "      <td>2024-03-28</td>\n",
       "      <td>CIS</td>\n",
       "      <td>[{'tpl': 'CNNBELL', 'wtp': None, 'wta': '17:33...</td>\n",
       "    </tr>\n",
       "    <tr>\n",
       "      <th>2</th>\n",
       "      <td>202403287619099</td>\n",
       "      <td>L19099</td>\n",
       "      <td>2024-03-28</td>\n",
       "      <td>TD</td>\n",
       "      <td>[{'tpl': 'STFD', 'wtp': None, 'wta': '17:27:30...</td>\n",
       "    </tr>\n",
       "    <tr>\n",
       "      <th>3</th>\n",
       "      <td>202403287619099</td>\n",
       "      <td>L19099</td>\n",
       "      <td>2024-03-28</td>\n",
       "      <td>CIS</td>\n",
       "      <td>[{'tpl': 'MRYLAND', 'wtp': '17:29:30', 'wta': ...</td>\n",
       "    </tr>\n",
       "    <tr>\n",
       "      <th>4</th>\n",
       "      <td>202403286792956</td>\n",
       "      <td>C92956</td>\n",
       "      <td>2024-03-28</td>\n",
       "      <td>TD</td>\n",
       "      <td>[{'tpl': 'HILLSID', 'wtp': None, 'wta': '17:30...</td>\n",
       "    </tr>\n",
       "    <tr>\n",
       "      <th>5</th>\n",
       "      <td>202403287616064</td>\n",
       "      <td>L16064</td>\n",
       "      <td>2024-03-28</td>\n",
       "      <td>Trust</td>\n",
       "      <td>[{'tpl': 'WLWYNN', 'wtp': None, 'wta': '17:30'...</td>\n",
       "    </tr>\n",
       "    <tr>\n",
       "      <th>6</th>\n",
       "      <td>202403288703082</td>\n",
       "      <td>W03082</td>\n",
       "      <td>2024-03-28</td>\n",
       "      <td>CIS</td>\n",
       "      <td>[{'tpl': 'THANETP', 'wtp': '17:27', 'wta': Non...</td>\n",
       "    </tr>\n",
       "    <tr>\n",
       "      <th>7</th>\n",
       "      <td>202403288755124</td>\n",
       "      <td>W55124</td>\n",
       "      <td>2024-03-28</td>\n",
       "      <td>CIS</td>\n",
       "      <td>[{'tpl': 'LARBERT', 'wtp': '17:33', 'wta': Non...</td>\n",
       "    </tr>\n",
       "    <tr>\n",
       "      <th>8</th>\n",
       "      <td>202403287180165</td>\n",
       "      <td>G80165</td>\n",
       "      <td>2024-03-28</td>\n",
       "      <td>CIS</td>\n",
       "      <td>[{'tpl': 'PADTLL', 'wtp': None, 'wta': None, '...</td>\n",
       "    </tr>\n",
       "    <tr>\n",
       "      <th>9</th>\n",
       "      <td>202403287179899</td>\n",
       "      <td>G79899</td>\n",
       "      <td>2024-03-28</td>\n",
       "      <td>CIS</td>\n",
       "      <td>[{'tpl': 'TWYFORD', 'wtp': None, 'wta': '21:05...</td>\n",
       "    </tr>\n",
       "    <tr>\n",
       "      <th>10</th>\n",
       "      <td>202403288756469</td>\n",
       "      <td>W56469</td>\n",
       "      <td>2024-03-28</td>\n",
       "      <td>TD</td>\n",
       "      <td>[{'tpl': 'HAYMRKT', 'wtp': None, 'wta': '17:31...</td>\n",
       "    </tr>\n",
       "    <tr>\n",
       "      <th>11</th>\n",
       "      <td>202403286759621</td>\n",
       "      <td>C59621</td>\n",
       "      <td>2024-03-28</td>\n",
       "      <td>CIS</td>\n",
       "      <td>[{'tpl': 'COVNTRY', 'wtp': None, 'wta': '17:34...</td>\n",
       "    </tr>\n",
       "    <tr>\n",
       "      <th>12</th>\n",
       "      <td>202403287602282</td>\n",
       "      <td>L02282</td>\n",
       "      <td>2024-03-28</td>\n",
       "      <td>CIS</td>\n",
       "      <td>[{'tpl': 'BRUCGRV', 'wtp': None, 'wta': '17:34...</td>\n",
       "    </tr>\n",
       "    <tr>\n",
       "      <th>13</th>\n",
       "      <td>202403288008263</td>\n",
       "      <td>P08263</td>\n",
       "      <td>2024-03-28</td>\n",
       "      <td>Trust</td>\n",
       "      <td>[{'tpl': 'RDNGKBJ', 'wtp': '17:33:30', 'wta': ...</td>\n",
       "    </tr>\n",
       "    <tr>\n",
       "      <th>14</th>\n",
       "      <td>202403288065164</td>\n",
       "      <td>P65164</td>\n",
       "      <td>2024-03-28</td>\n",
       "      <td>CIS</td>\n",
       "      <td>[{'tpl': 'CARDFQS', 'wtp': None, 'wta': '17:34...</td>\n",
       "    </tr>\n",
       "    <tr>\n",
       "      <th>15</th>\n",
       "      <td>202403286792581</td>\n",
       "      <td>C92581</td>\n",
       "      <td>2024-03-28</td>\n",
       "      <td>TD</td>\n",
       "      <td>[{'tpl': 'JAMESST', 'wtp': None, 'wta': '17:31...</td>\n",
       "    </tr>\n",
       "    <tr>\n",
       "      <th>16</th>\n",
       "      <td>202403287665591</td>\n",
       "      <td>L65591</td>\n",
       "      <td>2024-03-28</td>\n",
       "      <td>TD</td>\n",
       "      <td>[{'tpl': 'RDNGSTN', 'wtp': None, 'wta': '17:31...</td>\n",
       "    </tr>\n",
       "    <tr>\n",
       "      <th>17</th>\n",
       "      <td>202403287119657</td>\n",
       "      <td>G19657</td>\n",
       "      <td>2024-03-28</td>\n",
       "      <td>TD</td>\n",
       "      <td>[{'tpl': 'TRIMLEY', 'wtp': None, 'wta': '17:31...</td>\n",
       "    </tr>\n",
       "    <tr>\n",
       "      <th>18</th>\n",
       "      <td>202403287602282</td>\n",
       "      <td>L02282</td>\n",
       "      <td>2024-03-28</td>\n",
       "      <td>TD</td>\n",
       "      <td>[{'tpl': 'SEVNSIS', 'wtp': None, 'wta': '17:32...</td>\n",
       "    </tr>\n",
       "  </tbody>\n",
       "</table>\n",
       "</div>"
      ],
      "text/plain": [
       "                rid     uid         ssd updateOrigin  \\\n",
       "0   202403287665473  L65473  2024-03-28           TD   \n",
       "1   202403287604061  L04061  2024-03-28          CIS   \n",
       "2   202403287619099  L19099  2024-03-28           TD   \n",
       "3   202403287619099  L19099  2024-03-28          CIS   \n",
       "4   202403286792956  C92956  2024-03-28           TD   \n",
       "5   202403287616064  L16064  2024-03-28        Trust   \n",
       "6   202403288703082  W03082  2024-03-28          CIS   \n",
       "7   202403288755124  W55124  2024-03-28          CIS   \n",
       "8   202403287180165  G80165  2024-03-28          CIS   \n",
       "9   202403287179899  G79899  2024-03-28          CIS   \n",
       "10  202403288756469  W56469  2024-03-28           TD   \n",
       "11  202403286759621  C59621  2024-03-28          CIS   \n",
       "12  202403287602282  L02282  2024-03-28          CIS   \n",
       "13  202403288008263  P08263  2024-03-28        Trust   \n",
       "14  202403288065164  P65164  2024-03-28          CIS   \n",
       "15  202403286792581  C92581  2024-03-28           TD   \n",
       "16  202403287665591  L65591  2024-03-28           TD   \n",
       "17  202403287119657  G19657  2024-03-28           TD   \n",
       "18  202403287602282  L02282  2024-03-28           TD   \n",
       "\n",
       "                                            locations  \n",
       "0   [{'tpl': 'REDBDGE', 'wtp': '17:15', 'wta': Non...  \n",
       "1   [{'tpl': 'CNNBELL', 'wtp': None, 'wta': '17:33...  \n",
       "2   [{'tpl': 'STFD', 'wtp': None, 'wta': '17:27:30...  \n",
       "3   [{'tpl': 'MRYLAND', 'wtp': '17:29:30', 'wta': ...  \n",
       "4   [{'tpl': 'HILLSID', 'wtp': None, 'wta': '17:30...  \n",
       "5   [{'tpl': 'WLWYNN', 'wtp': None, 'wta': '17:30'...  \n",
       "6   [{'tpl': 'THANETP', 'wtp': '17:27', 'wta': Non...  \n",
       "7   [{'tpl': 'LARBERT', 'wtp': '17:33', 'wta': Non...  \n",
       "8   [{'tpl': 'PADTLL', 'wtp': None, 'wta': None, '...  \n",
       "9   [{'tpl': 'TWYFORD', 'wtp': None, 'wta': '21:05...  \n",
       "10  [{'tpl': 'HAYMRKT', 'wtp': None, 'wta': '17:31...  \n",
       "11  [{'tpl': 'COVNTRY', 'wtp': None, 'wta': '17:34...  \n",
       "12  [{'tpl': 'BRUCGRV', 'wtp': None, 'wta': '17:34...  \n",
       "13  [{'tpl': 'RDNGKBJ', 'wtp': '17:33:30', 'wta': ...  \n",
       "14  [{'tpl': 'CARDFQS', 'wtp': None, 'wta': '17:34...  \n",
       "15  [{'tpl': 'JAMESST', 'wtp': None, 'wta': '17:31...  \n",
       "16  [{'tpl': 'RDNGSTN', 'wtp': None, 'wta': '17:31...  \n",
       "17  [{'tpl': 'TRIMLEY', 'wtp': None, 'wta': '17:31...  \n",
       "18  [{'tpl': 'SEVNSIS', 'wtp': None, 'wta': '17:32...  "
      ]
     },
     "execution_count": 12,
     "metadata": {},
     "output_type": "execute_result"
    }
   ],
   "source": [
    "df"
   ]
  },
  {
   "cell_type": "code",
   "execution_count": 29,
   "id": "e51e3344-69bc-40c1-a881-80e9233b746d",
   "metadata": {},
   "outputs": [],
   "source": [
    "new_df = pd.read_parquet('part-00000-758e553c-4215-4322-a054-9199fd01beed-c000.snappy.parquet')"
   ]
  },
  {
   "cell_type": "code",
   "execution_count": 30,
   "id": "2f46f0cd-5d7c-4d49-a025-186799f30201",
   "metadata": {},
   "outputs": [],
   "source": [
    "all_data = []\n",
    "for xml_content in new_df['value']:\n",
    "    xml_content = xml_content.replace('\\\\\"', '\"').strip('\"')\n",
    "                # parsed_data = parse_xml(xml_content)"
   ]
  },
  {
   "cell_type": "code",
   "execution_count": 31,
   "id": "09fe2a34-9f15-481f-b81b-664f8b5ab980",
   "metadata": {},
   "outputs": [
    {
     "data": {
      "text/plain": [
       "'<?xml version=\"1.0\" encoding=\"UTF-8\" standalone=\"yes\"?><Pport xmlns=\"http://www.thalesgroup.com/rtti/PushPort/v16\" xmlns:ns2=\"http://www.thalesgroup.com/rtti/PushPort/Schedules/v3\" xmlns:ns3=\"http://www.thalesgroup.com/rtti/PushPort/Schedules/v2\" xmlns:ns4=\"http://www.thalesgroup.com/rtti/PushPort/Formations/v2\" xmlns:ns5=\"http://www.thalesgroup.com/rtti/PushPort/Forecasts/v3\" xmlns:ns6=\"http://www.thalesgroup.com/rtti/PushPort/Formations/v1\" xmlns:ns7=\"http://www.thalesgroup.com/rtti/PushPort/StationMessages/v1\" xmlns:ns8=\"http://www.thalesgroup.com/rtti/PushPort/TrainAlerts/v1\" xmlns:ns9=\"http://www.thalesgroup.com/rtti/PushPort/TrainOrder/v1\" xmlns:ns10=\"http://www.thalesgroup.com/rtti/PushPort/TDData/v1\" xmlns:ns11=\"http://www.thalesgroup.com/rtti/PushPort/Alarms/v1\" xmlns:ns12=\"http://thalesgroup.com/RTTI/PushPortStatus/root_1\" ts=\"2024-03-29T16:49:00.7564087Z\" version=\"16.0\"><uR updateOrigin=\"TD\"><TS rid=\"202403298155120\" uid=\"Q55120\" ssd=\"2024-03-29\"><ns5:Location tpl=\"BARNES\" wtp=\"16:49\"><ns5:pass at=\"16:49\" atClass=\"Automatic\" src=\"TD\"/><ns5:plat platsup=\"true\" cisPlatsup=\"true\" platsrc=\"A\" conf=\"true\">4</ns5:plat></ns5:Location></TS></uR></Pport>'"
      ]
     },
     "execution_count": 31,
     "metadata": {},
     "output_type": "execute_result"
    }
   ],
   "source": [
    "xml_content"
   ]
  },
  {
   "cell_type": "code",
   "execution_count": 37,
   "id": "dddbcbe9-58cf-400b-bb8f-e35fa94f52a0",
   "metadata": {},
   "outputs": [],
   "source": [
    "root = ET.fromstring(xml_content)\n",
    "# results = []\n",
    "# root.find('{http://www.thalesgroup.com/rtti/PushPort/v16}Pport')"
   ]
  },
  {
   "cell_type": "code",
   "execution_count": 38,
   "id": "e4c1fce2-d320-416c-8dc5-0a3f6e2dafeb",
   "metadata": {},
   "outputs": [
    {
     "name": "stdout",
     "output_type": "stream",
     "text": [
      "<Element '{http://www.thalesgroup.com/rtti/PushPort/v16}Pport' at 0x7f2350093560>\n"
     ]
    }
   ],
   "source": [
    "print(root)"
   ]
  },
  {
   "cell_type": "code",
   "execution_count": 39,
   "id": "c74da714-23ae-4083-af96-42d3c2296ee7",
   "metadata": {},
   "outputs": [
    {
     "name": "stdout",
     "output_type": "stream",
     "text": [
      "None\n"
     ]
    }
   ],
   "source": [
    "print(root.text)"
   ]
  },
  {
   "cell_type": "code",
   "execution_count": 47,
   "id": "f7a557dd-3b6d-4ccd-925e-4d73b0255542",
   "metadata": {},
   "outputs": [],
   "source": [
    "ts = root.attrib.get('ts')"
   ]
  },
  {
   "cell_type": "code",
   "execution_count": 49,
   "id": "e481f329-a220-4241-a60c-63d618302245",
   "metadata": {},
   "outputs": [
    {
     "data": {
      "text/plain": [
       "Timestamp('2024-03-28 17:33:12.919408700+0000', tz='UTC')"
      ]
     },
     "execution_count": 49,
     "metadata": {},
     "output_type": "execute_result"
    }
   ],
   "source": [
    "pd.to_datetime(ts)"
   ]
  },
  {
   "cell_type": "code",
   "execution_count": 46,
   "id": "927ce623-5ea0-4909-9003-ece399540dcc",
   "metadata": {},
   "outputs": [
    {
     "name": "stdout",
     "output_type": "stream",
     "text": [
      "None\n",
      "{'et': '17:35', 'wet': '17:34', 'src': 'Darwin'}\n",
      "None\n",
      "{'et': '17:35', 'src': 'Darwin'}\n",
      "2\n",
      "{'platsrc': 'A', 'conf': 'true'}\n"
     ]
    }
   ],
   "source": [
    "results = []\n",
    "for ur in root.findall('{http://www.thalesgroup.com/rtti/PushPort/v16}uR'):\n",
    "    for ts in ur.findall('{http://www.thalesgroup.com/rtti/PushPort/v16}TS'):\n",
    "        result = {\n",
    "            'ts' : root.attrib.get('ts'),\n",
    "            'rid': ts.attrib.get('rid'),\n",
    "            'uid': ts.attrib.get('uid'),\n",
    "            'ssd': ts.attrib.get('ssd'),\n",
    "            'updateOrigin': ur.attrib.get('updateOrigin'),\n",
    "        }\n",
    "        locations = []\n",
    "        for location in ts.findall('{http://www.thalesgroup.com/rtti/PushPort/Forecasts/v3}Location'):\n",
    "            location_data = {\n",
    "                'tpl': location.attrib.get('tpl'),\n",
    "                'wtp': location.attrib.get('wtp'),\n",
    "                'wta': location.attrib.get('wta'),\n",
    "                'wtd': location.attrib.get('wtd'),\n",
    "                'pta': location.attrib.get('pta'),\n",
    "                'ptd': location.attrib.get('ptd'),\n",
    "            }\n",
    "            # note: might want to add 'pass' here and around 112 below. it might occasionally appear\n",
    "            # along with/instead of arr/dep.\n",
    "            for tag in ['pass', 'arr', 'dep', 'plat', 'length']:\n",
    "                tag_element = location.find(\"{http://www.thalesgroup.com/rtti/PushPort/Forecasts/v3}\" + tag)\n",
    "                if tag_element is not None:\n",
    "                    # print(tag_element.text)\n",
    "                    # print(tag_element.attrib)\n",
    "                    location_data[tag] = tag_element.text or tag_element.attrib"
   ]
  },
  {
   "cell_type": "code",
   "execution_count": 42,
   "id": "ff146287-489c-45a8-a3b8-067975b3d50e",
   "metadata": {},
   "outputs": [],
   "source": [
    "tag_element"
   ]
  },
  {
   "cell_type": "code",
   "execution_count": 43,
   "id": "20809a8d-bcb3-4165-9024-0b61944aac73",
   "metadata": {},
   "outputs": [
    {
     "data": {
      "text/plain": [
       "<Element '{http://www.thalesgroup.com/rtti/PushPort/Forecasts/v3}arr' at 0x7f23500937e0>"
      ]
     },
     "execution_count": 43,
     "metadata": {},
     "output_type": "execute_result"
    }
   ],
   "source": [
    "test_elem = location.find(\"{http://www.thalesgroup.com/rtti/PushPort/Forecasts/v3}\" + \"arr\")\n",
    "test_elem"
   ]
  },
  {
   "cell_type": "code",
   "execution_count": 45,
   "id": "b75b6d84-8613-4366-b7f0-04a8e51ebbf4",
   "metadata": {},
   "outputs": [
    {
     "data": {
      "text/plain": [
       "{'et': '17:35', 'wet': '17:34', 'src': 'Darwin'}"
      ]
     },
     "execution_count": 45,
     "metadata": {},
     "output_type": "execute_result"
    }
   ],
   "source": [
    "test_elem.attrib"
   ]
  },
  {
   "cell_type": "code",
   "execution_count": null,
   "id": "1c229fcb-f61c-441d-8018-970a7dd524d0",
   "metadata": {},
   "outputs": [],
   "source": []
  }
 ],
 "metadata": {
  "kernelspec": {
   "display_name": "Python 3 (ipykernel)",
   "language": "python",
   "name": "python3"
  },
  "language_info": {
   "codemirror_mode": {
    "name": "ipython",
    "version": 3
   },
   "file_extension": ".py",
   "mimetype": "text/x-python",
   "name": "python",
   "nbconvert_exporter": "python",
   "pygments_lexer": "ipython3",
   "version": "3.11.6"
  }
 },
 "nbformat": 4,
 "nbformat_minor": 5
}
