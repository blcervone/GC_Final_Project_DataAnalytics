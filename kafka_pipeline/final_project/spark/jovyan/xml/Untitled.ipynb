{
 "cells": [
  {
   "cell_type": "code",
   "execution_count": 9,
   "id": "c977f550-1389-4393-b328-358511bcd37e",
   "metadata": {},
   "outputs": [],
   "source": [
    "import pandas as pd"
   ]
  },
  {
   "cell_type": "code",
   "execution_count": 10,
   "id": "b52e6c26-fc65-46aa-8bc0-16a88de17055",
   "metadata": {},
   "outputs": [
    {
     "data": {
      "text/html": [
       "<div>\n",
       "<style scoped>\n",
       "    .dataframe tbody tr th:only-of-type {\n",
       "        vertical-align: middle;\n",
       "    }\n",
       "\n",
       "    .dataframe tbody tr th {\n",
       "        vertical-align: top;\n",
       "    }\n",
       "\n",
       "    .dataframe thead th {\n",
       "        text-align: right;\n",
       "    }\n",
       "</style>\n",
       "<table border=\"1\" class=\"dataframe\">\n",
       "  <thead>\n",
       "    <tr style=\"text-align: right;\">\n",
       "      <th></th>\n",
       "      <th>value</th>\n",
       "    </tr>\n",
       "  </thead>\n",
       "  <tbody>\n",
       "    <tr>\n",
       "      <th>0</th>\n",
       "      <td>\"&lt;?xml version=\\\"1.0\\\" encoding=\\\"UTF-8\\\" stan...</td>\n",
       "    </tr>\n",
       "    <tr>\n",
       "      <th>1</th>\n",
       "      <td>\"&lt;?xml version=\\\"1.0\\\" encoding=\\\"UTF-8\\\" stan...</td>\n",
       "    </tr>\n",
       "  </tbody>\n",
       "</table>\n",
       "</div>"
      ],
      "text/plain": [
       "                                               value\n",
       "0  \"<?xml version=\\\"1.0\\\" encoding=\\\"UTF-8\\\" stan...\n",
       "1  \"<?xml version=\\\"1.0\\\" encoding=\\\"UTF-8\\\" stan..."
      ]
     },
     "execution_count": 10,
     "metadata": {},
     "output_type": "execute_result"
    }
   ],
   "source": [
    "df = pd.read_parquet('./Saved Parquets/part-00000-60301c58-0770-46b7-9fa5-4352f04314f1-c000.snappy.parquet')\n",
    "df"
   ]
  },
  {
   "cell_type": "code",
   "execution_count": 12,
   "id": "d54bf830-04f3-4a14-b5fb-8771c5c006dd",
   "metadata": {},
   "outputs": [
    {
     "name": "stdout",
     "output_type": "stream",
     "text": [
      "\"<?xml version=\\\"1.0\\\" encoding=\\\"UTF-8\\\" standalone=\\\"yes\\\"?><Pport xmlns=\\\"http://www.thalesgroup.com/rtti/PushPort/v16\\\" xmlns:ns2=\\\"http://www.thalesgroup.com/rtti/PushPort/Schedules/v3\\\" xmlns:ns3=\\\"http://www.thalesgroup.com/rtti/PushPort/Schedules/v2\\\" xmlns:ns4=\\\"http://www.thalesgroup.com/rtti/PushPort/Formations/v2\\\" xmlns:ns5=\\\"http://www.thalesgroup.com/rtti/PushPort/Forecasts/v3\\\" xmlns:ns6=\\\"http://www.thalesgroup.com/rtti/PushPort/Formations/v1\\\" xmlns:ns7=\\\"http://www.thalesgroup.com/rtti/PushPort/StationMessages/v1\\\" xmlns:ns8=\\\"http://www.thalesgroup.com/rtti/PushPort/TrainAlerts/v1\\\" xmlns:ns9=\\\"http://www.thalesgroup.com/rtti/PushPort/TrainOrder/v1\\\" xmlns:ns10=\\\"http://www.thalesgroup.com/rtti/PushPort/TDData/v1\\\" xmlns:ns11=\\\"http://www.thalesgroup.com/rtti/PushPort/Alarms/v1\\\" xmlns:ns12=\\\"http://thalesgroup.com/RTTI/PushPortStatus/root_1\\\" ts=\\\"2024-03-28T17:33:12.0734087Z\\\" version=\\\"16.0\\\"><uR updateOrigin=\\\"TD\\\"><TS rid=\\\"202403287665473\\\" uid=\\\"L65473\\\" ssd=\\\"2024-03-28\\\"><ns5:LateReason>501</ns5:LateReason><ns5:Location tpl=\\\"REDBDGE\\\" wtp=\\\"17:15\\\"><ns5:pass et=\\\"17:33\\\" src=\\\"TD\\\"/><ns5:plat platsup=\\\"true\\\" cisPlatsup=\\\"true\\\" platsrc=\\\"A\\\">2</ns5:plat></ns5:Location><ns5:Location tpl=\\\"ROMSEY\\\" wta=\\\"17:21:30\\\" wtd=\\\"17:22:30\\\" pta=\\\"17:22\\\" ptd=\\\"17:22\\\"><ns5:arr et=\\\"17:40\\\" src=\\\"Darwin\\\"/><ns5:dep et=\\\"17:40\\\" src=\\\"Darwin\\\"/><ns5:plat>2</ns5:plat></ns5:Location><ns5:Location tpl=\\\"DEAN\\\" wtp=\\\"17:29:30\\\"><ns5:pass et=\\\"17:47\\\" src=\\\"Darwin\\\"/><ns5:plat platsup=\\\"true\\\" cisPlatsup=\\\"true\\\" platsrc=\\\"A\\\">2</ns5:plat></ns5:Location><ns5:Location tpl=\\\"WSHFORD\\\" wtp=\\\"17:48:30\\\"><ns5:pass et=\\\"18:05\\\" src=\\\"Darwin\\\"/></ns5:Location><ns5:Location tpl=\\\"WARM301\\\" wtp=\\\"18:00:30\\\"><ns5:pass et=\\\"18:17\\\" src=\\\"Darwin\\\"/></ns5:Location><ns5:Location tpl=\\\"WSTBRYW\\\" wta=\\\"18:10:30\\\" wtd=\\\"18:12\\\" pta=\\\"18:11\\\" ptd=\\\"18:12\\\"><ns5:arr et=\\\"18:26\\\" src=\\\"Darwin\\\"/><ns5:dep et=\\\"18:27\\\" src=\\\"Darwin\\\"/><ns5:plat>3</ns5:plat></ns5:Location><ns5:Location tpl=\\\"TRWBRDG\\\" wta=\\\"18:17:30\\\" wtd=\\\"18:18:30\\\" pta=\\\"18:18\\\" ptd=\\\"18:18\\\"><ns5:arr et=\\\"18:33\\\" src=\\\"Darwin\\\"/><ns5:dep et=\\\"18:33\\\" src=\\\"Darwin\\\"/><ns5:plat>1</ns5:plat></ns5:Location><ns5:Location tpl=\\\"BRDFDJN\\\" wtp=\\\"18:20:30\\\"><ns5:pass et=\\\"18:35\\\" src=\\\"Darwin\\\"/></ns5:Location><ns5:Location tpl=\\\"BRDFDOA\\\" wta=\\\"18:23:30\\\" wtd=\\\"18:24:30\\\" pta=\\\"18:24\\\" ptd=\\\"18:24\\\"><ns5:arr et=\\\"18:38\\\" src=\\\"Darwin\\\"/><ns5:dep et=\\\"18:39\\\" src=\\\"Darwin\\\"/><ns5:plat>1</ns5:plat></ns5:Location><ns5:Location tpl=\\\"AVNCLFF\\\" wtp=\\\"18:26\\\"><ns5:pass et=\\\"18:40\\\" src=\\\"Darwin\\\"/><ns5:plat platsup=\\\"true\\\" cisPlatsup=\\\"true\\\">1</ns5:plat></ns5:Location><ns5:Location tpl=\\\"FRESHFD\\\" wtp=\\\"18:27\\\"><ns5:pass et=\\\"18:41\\\" src=\\\"Darwin\\\"/><ns5:plat platsup=\\\"true\\\" cisPlatsup=\\\"true\\\">1</ns5:plat></ns5:Location><ns5:Location tpl=\\\"BTHMPTJ\\\" wtp=\\\"18:33\\\"><ns5:pass et=\\\"18:46\\\" src=\\\"Darwin\\\"/></ns5:Location><ns5:Location tpl=\\\"BATHSPA\\\" wta=\\\"18:36\\\" wtd=\\\"18:38\\\" pta=\\\"18:36\\\" ptd=\\\"18:38\\\"><ns5:arr et=\\\"18:49\\\" src=\\\"Darwin\\\"/><ns5:dep et=\\\"18:50\\\" src=\\\"Darwin\\\"/><ns5:plat>1</ns5:plat></ns5:Location><ns5:Location tpl=\\\"KEYNSHM\\\" wta=\\\"18:44:30\\\" wtd=\\\"18:45:30\\\" pta=\\\"18:45\\\" ptd=\\\"18:45\\\"><ns5:arr et=\\\"18:57\\\" src=\\\"Darwin\\\"/><ns5:dep et=\\\"18:57\\\" src=\\\"Darwin\\\"/><ns5:plat>1</ns5:plat></ns5:Location><ns5:Location tpl=\\\"DRDAYSJ\\\" wtp=\\\"18:59:30\\\"><ns5:pass et=\\\"19:06\\\" src=\\\"Darwin\\\"/></ns5:Location><ns5:Location tpl=\\\"FILTNEW\\\" wta=\\\"19:04:30\\\" wtd=\\\"19:07\\\" pta=\\\"19:05\\\" ptd=\\\"19:07\\\"><ns5:arr et=\\\"19:11\\\" src=\\\"Darwin\\\"/><ns5:dep et=\\\"19:12\\\" src=\\\"Darwin\\\"/><ns5:plat>4</ns5:plat></ns5:Location><ns5:Location tpl=\\\"SEVTNLW\\\" wtp=\\\"19:18\\\"><ns5:pass et=\\\"19:22\\\" src=\\\"Darwin\\\"/></ns5:Location><ns5:Location tpl=\\\"LWERWJN\\\" wtp=\\\"19:27:30\\\"><ns5:pass et=\\\"19:31\\\" src=\\\"Darwin\\\"/></ns5:Location><ns5:Location tpl=\\\"MAINDWJ\\\" wtp=\\\"19:33\\\"><ns5:pass et=\\\"19:33\\\" src=\\\"Darwin\\\"/></ns5:Location><ns5:Location tpl=\\\"NWPTRTG\\\" wta=\\\"19:34:30\\\" wtd=\\\"19:37\\\" pta=\\\"19:35\\\" ptd=\\\"19:37\\\"><ns5:arr et=\\\"19:35\\\" wet=\\\"19:34\\\" src=\\\"Darwin\\\"/><ns5:dep et=\\\"19:37\\\" src=\\\"Darwin\\\"/><ns5:plat platsup=\\\"true\\\" cisPlatsup=\\\"true\\\">2</ns5:plat></ns5:Location></TS></uR></Pport>\"\n",
      "\"<?xml version=\\\"1.0\\\" encoding=\\\"UTF-8\\\" standalone=\\\"yes\\\"?><Pport xmlns=\\\"http://www.thalesgroup.com/rtti/PushPort/v16\\\" xmlns:ns2=\\\"http://www.thalesgroup.com/rtti/PushPort/Schedules/v3\\\" xmlns:ns3=\\\"http://www.thalesgroup.com/rtti/PushPort/Schedules/v2\\\" xmlns:ns4=\\\"http://www.thalesgroup.com/rtti/PushPort/Formations/v2\\\" xmlns:ns5=\\\"http://www.thalesgroup.com/rtti/PushPort/Forecasts/v3\\\" xmlns:ns6=\\\"http://www.thalesgroup.com/rtti/PushPort/Formations/v1\\\" xmlns:ns7=\\\"http://www.thalesgroup.com/rtti/PushPort/StationMessages/v1\\\" xmlns:ns8=\\\"http://www.thalesgroup.com/rtti/PushPort/TrainAlerts/v1\\\" xmlns:ns9=\\\"http://www.thalesgroup.com/rtti/PushPort/TrainOrder/v1\\\" xmlns:ns10=\\\"http://www.thalesgroup.com/rtti/PushPort/TDData/v1\\\" xmlns:ns11=\\\"http://www.thalesgroup.com/rtti/PushPort/Alarms/v1\\\" xmlns:ns12=\\\"http://thalesgroup.com/RTTI/PushPortStatus/root_1\\\" ts=\\\"2024-03-28T17:33:12.1454087Z\\\" version=\\\"16.0\\\"><uR updateOrigin=\\\"CIS\\\" requestSource=\\\"at36\\\" requestID=\\\"0000000000028644\\\"><TS rid=\\\"202403287604061\\\" uid=\\\"L04061\\\" ssd=\\\"2024-03-28\\\"><ns5:Location tpl=\\\"CNNBELL\\\" wta=\\\"17:33:30\\\" wtd=\\\"17:34\\\" pta=\\\"17:34\\\" ptd=\\\"17:34\\\"><ns5:arr et=\\\"17:34\\\" wet=\\\"17:33\\\" src=\\\"Darwin\\\"/><ns5:dep et=\\\"17:34\\\" src=\\\"Darwin\\\"/><ns5:plat platsrc=\\\"A\\\" conf=\\\"true\\\">1</ns5:plat></ns5:Location></TS></uR></Pport>\"\n"
     ]
    }
   ],
   "source": [
    "for val in df['value']:\n",
    "    print(val)"
   ]
  },
  {
   "cell_type": "code",
   "execution_count": null,
   "id": "b82565c8-df96-46f4-bdb1-670ecd37400c",
   "metadata": {},
   "outputs": [],
   "source": []
  }
 ],
 "metadata": {
  "kernelspec": {
   "display_name": "Python 3 (ipykernel)",
   "language": "python",
   "name": "python3"
  },
  "language_info": {
   "codemirror_mode": {
    "name": "ipython",
    "version": 3
   },
   "file_extension": ".py",
   "mimetype": "text/x-python",
   "name": "python",
   "nbconvert_exporter": "python",
   "pygments_lexer": "ipython3",
   "version": "3.11.6"
  }
 },
 "nbformat": 4,
 "nbformat_minor": 5
}
