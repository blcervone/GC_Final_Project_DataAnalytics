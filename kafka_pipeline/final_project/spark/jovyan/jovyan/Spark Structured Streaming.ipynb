{
 "cells": [
  {
   "cell_type": "code",
   "execution_count": 1,
   "id": "0566af89-9674-499f-a69b-a8a01a1f9d53",
   "metadata": {
    "tags": []
   },
   "outputs": [],
   "source": [
    "from pyspark.sql import SparkSession\n",
    "from pyspark.sql.types import *\n",
    "from pyspark.sql.functions import from_json, col, explode, to_json\n",
    "\n",
    "BROKER_IP = \"localhost\"\n",
    "BROKER_PORT = \"9092\"\n",
    "TOPIC = \"darwin\"\n",
    "\n",
    "# Create a Spark Session\n",
    "spark = SparkSession.builder.master(\"local[*]\").getOrCreate()\n",
    "\n",
    "# Read Kafka Topic into a Spark Streaming DataFrame\n",
    "df = spark \\\n",
    "  .readStream \\\n",
    "  .format(\"kafka\") \\\n",
    "  .option(\"kafka.bootstrap.servers\", f\"{BROKER_IP}:{BROKER_PORT},broker:29092\") \\\n",
    "  .option(\"subscribe\", TOPIC) \\\n",
    "  .load()\n",
    "\n",
    "# Create Schema for JSON value from Kafka Topic\n",
    "# attr_schema = StructType([StructField(\"tag\", StringType()),\n",
    "#                           StructField(\"attributes\", StringType()),\n",
    "#                           StructField(\"text\", StringType())]\n",
    "#                         )\n",
    "attr_schema = MapType(StringType(), StringType())\n",
    "\n",
    "\n",
    "jsonschema = StructType([StructField(\"timestamp\", TimestampType()),\n",
    "                         StructField(\"elements\", ArrayType(attr_schema))\n",
    "                        ]\n",
    "                       )\n",
    "\n",
    "## Read into JSON from Kafka\n",
    "base_df = df.selectExpr(\"CAST(value as STRING)\")\\\n",
    "            .select(from_json(col(\"value\"), jsonschema).alias(\"value\"))"
   ]
  },
  {
   "cell_type": "code",
   "execution_count": 2,
   "id": "618dac9b-f96b-41b5-b49d-e94a0b4e2a1d",
   "metadata": {
    "tags": []
   },
   "outputs": [],
   "source": [
    "! rm -rf data\n",
    "! rm -rf checkpoints\n",
    "! mkdir data\n",
    "! mkdir checkpoints"
   ]
  },
  {
   "cell_type": "code",
   "execution_count": 3,
   "id": "9f6e95ec-e49d-49ad-9e64-e356ecdef7b6",
   "metadata": {
    "tags": []
   },
   "outputs": [
    {
     "name": "stdout",
     "output_type": "stream",
     "text": [
      "root\n",
      " |-- value: struct (nullable = true)\n",
      " |    |-- timestamp: timestamp (nullable = true)\n",
      " |    |-- elements: array (nullable = true)\n",
      " |    |    |-- element: map (containsNull = true)\n",
      " |    |    |    |-- key: string\n",
      " |    |    |    |-- value: string (valueContainsNull = true)\n",
      "\n"
     ]
    }
   ],
   "source": [
    "base_df.printSchema()"
   ]
  },
  {
   "cell_type": "code",
   "execution_count": 4,
   "id": "a3c16257-3805-4ed4-bac3-c9bdf9a27476",
   "metadata": {
    "tags": []
   },
   "outputs": [],
   "source": [
    "base_df = base_df.select(\"value.*\") \\\n",
    "                 .select(explode(\"elements\"))"
   ]
  },
  {
   "cell_type": "code",
   "execution_count": 5,
   "id": "87d8f2f3-26aa-4e78-b4e7-530b92abc2d4",
   "metadata": {
    "tags": []
   },
   "outputs": [
    {
     "data": {
      "text/plain": [
       "['col']"
      ]
     },
     "execution_count": 5,
     "metadata": {},
     "output_type": "execute_result"
    }
   ],
   "source": [
    "base_df.columns"
   ]
  },
  {
   "cell_type": "code",
   "execution_count": 6,
   "id": "91677a2f-2a4d-4372-bb29-85bc749d3a2c",
   "metadata": {
    "tags": []
   },
   "outputs": [
    {
     "data": {
      "text/plain": [
       "<pyspark.sql.streaming.query.StreamingQuery at 0x7f5f0047e1d0>"
      ]
     },
     "execution_count": 6,
     "metadata": {},
     "output_type": "execute_result"
    }
   ],
   "source": [
    "base_df.writeStream \\\n",
    "       .format(\"parquet\") \\\n",
    "       .option(\"path\", \"./data\") \\\n",
    "       .option(\"checkpointLocation\", \"./checkpoints/\") \\\n",
    "       .outputMode(\"append\") \\\n",
    "       .start()"
   ]
  },
  {
   "cell_type": "code",
   "execution_count": 7,
   "id": "a488f9cb-4fe5-42c7-85ce-2dafbcb32d6a",
   "metadata": {},
   "outputs": [
    {
     "data": {
      "text/plain": [
       "<pyspark.sql.streaming.query.StreamingQuery at 0x7f5ebadcce10>"
      ]
     },
     "execution_count": 7,
     "metadata": {},
     "output_type": "execute_result"
    }
   ],
   "source": [
    "base_df.writeStream \\\n",
    "       .format(\"console\") \\\n",
    "       .outputMode(\"append\") \\\n",
    "       .start()"
   ]
  },
  {
   "cell_type": "code",
   "execution_count": 8,
   "id": "fe05e811-3843-4c82-95f1-9a77b23c22c9",
   "metadata": {
    "tags": []
   },
   "outputs": [
    {
     "data": {
      "text/plain": [
       "True"
      ]
     },
     "execution_count": 8,
     "metadata": {},
     "output_type": "execute_result"
    }
   ],
   "source": [
    "base_df.isStreaming"
   ]
  },
  {
   "cell_type": "code",
   "execution_count": 9,
   "id": "a389287c-c839-4191-83cb-69a88a0148f7",
   "metadata": {},
   "outputs": [
    {
     "ename": "SyntaxError",
     "evalue": "invalid syntax (3033829300.py, line 1)",
     "output_type": "error",
     "traceback": [
      "\u001b[0;36m  Cell \u001b[0;32mIn[9], line 1\u001b[0;36m\u001b[0m\n\u001b[0;31m    base_df.\u001b[0m\n\u001b[0m            ^\u001b[0m\n\u001b[0;31mSyntaxError\u001b[0m\u001b[0;31m:\u001b[0m invalid syntax\n"
     ]
    }
   ],
   "source": [
    "base_df."
   ]
  },
  {
   "cell_type": "code",
   "execution_count": null,
   "id": "4cc1d025-bbc5-4cbf-8c54-9643cb6193d0",
   "metadata": {},
   "outputs": [],
   "source": [
    "# .select(to_json(col(\"col\")).alias(\"each_element\")) \\\n",
    "# .select(from_json(col(\"each_element\"), attr_schema)) \\"
   ]
  },
  {
   "cell_type": "code",
   "execution_count": null,
   "id": "68fa01b5-3885-4d9f-a50d-bd5126d808fb",
   "metadata": {},
   "outputs": [],
   "source": []
  }
 ],
 "metadata": {
  "kernelspec": {
   "display_name": "Python 3 (ipykernel)",
   "language": "python",
   "name": "python3"
  },
  "language_info": {
   "codemirror_mode": {
    "name": "ipython",
    "version": 3
   },
   "file_extension": ".py",
   "mimetype": "text/x-python",
   "name": "python",
   "nbconvert_exporter": "python",
   "pygments_lexer": "ipython3",
   "version": "3.11.4"
  }
 },
 "nbformat": 4,
 "nbformat_minor": 5
}
