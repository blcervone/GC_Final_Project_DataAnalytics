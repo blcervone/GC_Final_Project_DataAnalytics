{
 "cells": [
  {
   "cell_type": "code",
   "execution_count": 1,
   "id": "initial_id",
   "metadata": {
    "collapsed": true,
    "ExecuteTime": {
     "end_time": "2024-04-01T20:25:07.746377800Z",
     "start_time": "2024-04-01T20:25:07.212842900Z"
    }
   },
   "outputs": [],
   "source": [
    "import pandas as pd\n",
    "from sqlalchemy import create_engine\n",
    "from sqlalchemy.sql import text\n",
    "import matplotlib.pyplot as plt\n",
    "import seaborn as sns\n",
    "from datetime import datetime,timedelta \n",
    "DB_NAME =\"postgres\"\n",
    "DB_USER= \"root\"\n",
    "DB_PASS=\"7KxkIO3N4g6vef7W8mMf\"\n",
    "DB_HOST=\"database-1.ctkumo88chgh.us-east-2.rds.amazonaws.com\"\n",
    "DB_PORT=\"5432\""
   ]
  },
  {
   "cell_type": "code",
   "outputs": [],
   "source": [
    "engine = create_engine(f\"postgresql://{DB_USER}:{DB_PASS}@{DB_HOST}/{DB_NAME}\")\n",
    "conn =engine.connect()"
   ],
   "metadata": {
    "collapsed": false,
    "ExecuteTime": {
     "end_time": "2024-04-01T20:25:09.023561100Z",
     "start_time": "2024-04-01T20:25:07.749949600Z"
    }
   },
   "id": "92414f0d443e7195",
   "execution_count": 2
  },
  {
   "cell_type": "code",
   "outputs": [],
   "source": [
    "sql_query= text(\"SELECT * FROM testdata\")\n",
    "df=pd.read_sql(sql_query,conn)\n"
   ],
   "metadata": {
    "collapsed": false,
    "ExecuteTime": {
     "end_time": "2024-04-01T20:25:13.373837300Z",
     "start_time": "2024-04-01T20:25:11.048376Z"
    }
   },
   "id": "f0d2c60b18dc47a7",
   "execution_count": 3
  },
  {
   "cell_type": "code",
   "outputs": [
    {
     "data": {
      "text/plain": "           message_time         route_id unique_id service_start_date  \\\n0       17:27:16.584408  202403297025211    F25211         2024-03-29   \n1       17:27:16.584408  202403297025211    F25211         2024-03-29   \n2       17:27:16.584408  202403297025211    F25211         2024-03-29   \n3       17:27:16.599408  202403297420713    J20713         2024-03-29   \n4       17:27:23.812408  202403298731420    W31420         2024-03-29   \n...                 ...              ...       ...                ...   \n121818  17:18:00.649408  202403317126913    G26913         2024-03-31   \n121819  17:18:00.650408  202403317126544    G26544         2024-03-31   \n121820  17:18:00.650408  202403317126544    G26544         2024-03-31   \n121821  17:18:00.650408  202403317126544    G26544         2024-03-31   \n121822  17:18:00.650408  202403317126544    G26544         2024-03-31   \n\n       update_origin train_platform working_time_pass working_time_arrival  \\\n0                 TD        ROMFORD              None             17:29:30   \n1                 TD        SHENFLD              None             17:38:30   \n2                 TD        BILERCY              None             17:44:30   \n3                CIS        CHLSFLD              None             17:27:30   \n4               None           TABY              None             17:30:30   \n...              ...            ...               ...                  ...   \n121818        Darwin        HARLSDN              None             16:49:00   \n121819        Darwin        HARLSDN              None             17:12:00   \n121820        Darwin        WLSDNJL              None             17:14:00   \n121821        Darwin         KENSLG              None             17:16:30   \n121822        Darwin           QPRK              None             17:20:30   \n\n       working_time_departure planned_time_arrival  ... train_length  \\\n0                    17:30:00             17:30:00  ...         10.0   \n1                    17:39:00             17:39:00  ...         10.0   \n2                    17:49:30             17:45:00  ...         10.0   \n3                    17:28:00             17:28:00  ...          8.0   \n4                    17:31:30             17:31:00  ...          NaN   \n...                       ...                  ...  ...          ...   \n121818               16:49:30             16:49:00  ...          NaN   \n121819               17:12:30             17:12:00  ...          NaN   \n121820               17:14:30             17:14:00  ...          NaN   \n121821               17:17:00             17:17:00  ...          NaN   \n121822               17:22:30             17:21:00  ...          NaN   \n\n       estimated_time source actual_time  actual_time_class  \\\n0                None   None        None               None   \n1                None   None        None               None   \n2                None   None        None               None   \n3                None   None        None               None   \n4                None   None        None               None   \n...               ...    ...         ...                ...   \n121818           None   None        None               None   \n121819           None   None        None               None   \n121820           None   None        None               None   \n121821           None   None        None               None   \n121822           None   None        None               None   \n\n       is_delayed_arrival is_delayed_departure late_code source_instance  \\\n0                   False                False      None            None   \n1                   False                False      None            None   \n2                   False                False      None            None   \n3                   False                False      None            None   \n4                   False                False      None            None   \n...                   ...                  ...       ...             ...   \n121818               True                 True      None            None   \n121819               True                 True      None            None   \n121820               True                 True      None            None   \n121821               True                 True      None            None   \n121822               True                 True      None            None   \n\n        estimated_time_minutes  \n0                         None  \n1                         None  \n2                         None  \n3                         None  \n4                         None  \n...                        ...  \n121818                    None  \n121819                    None  \n121820                    None  \n121821                    None  \n121822                    None  \n\n[121823 rows x 24 columns]",
      "text/html": "<div>\n<style scoped>\n    .dataframe tbody tr th:only-of-type {\n        vertical-align: middle;\n    }\n\n    .dataframe tbody tr th {\n        vertical-align: top;\n    }\n\n    .dataframe thead th {\n        text-align: right;\n    }\n</style>\n<table border=\"1\" class=\"dataframe\">\n  <thead>\n    <tr style=\"text-align: right;\">\n      <th></th>\n      <th>message_time</th>\n      <th>route_id</th>\n      <th>unique_id</th>\n      <th>service_start_date</th>\n      <th>update_origin</th>\n      <th>train_platform</th>\n      <th>working_time_pass</th>\n      <th>working_time_arrival</th>\n      <th>working_time_departure</th>\n      <th>planned_time_arrival</th>\n      <th>...</th>\n      <th>train_length</th>\n      <th>estimated_time</th>\n      <th>source</th>\n      <th>actual_time</th>\n      <th>actual_time_class</th>\n      <th>is_delayed_arrival</th>\n      <th>is_delayed_departure</th>\n      <th>late_code</th>\n      <th>source_instance</th>\n      <th>estimated_time_minutes</th>\n    </tr>\n  </thead>\n  <tbody>\n    <tr>\n      <th>0</th>\n      <td>17:27:16.584408</td>\n      <td>202403297025211</td>\n      <td>F25211</td>\n      <td>2024-03-29</td>\n      <td>TD</td>\n      <td>ROMFORD</td>\n      <td>None</td>\n      <td>17:29:30</td>\n      <td>17:30:00</td>\n      <td>17:30:00</td>\n      <td>...</td>\n      <td>10.0</td>\n      <td>None</td>\n      <td>None</td>\n      <td>None</td>\n      <td>None</td>\n      <td>False</td>\n      <td>False</td>\n      <td>None</td>\n      <td>None</td>\n      <td>None</td>\n    </tr>\n    <tr>\n      <th>1</th>\n      <td>17:27:16.584408</td>\n      <td>202403297025211</td>\n      <td>F25211</td>\n      <td>2024-03-29</td>\n      <td>TD</td>\n      <td>SHENFLD</td>\n      <td>None</td>\n      <td>17:38:30</td>\n      <td>17:39:00</td>\n      <td>17:39:00</td>\n      <td>...</td>\n      <td>10.0</td>\n      <td>None</td>\n      <td>None</td>\n      <td>None</td>\n      <td>None</td>\n      <td>False</td>\n      <td>False</td>\n      <td>None</td>\n      <td>None</td>\n      <td>None</td>\n    </tr>\n    <tr>\n      <th>2</th>\n      <td>17:27:16.584408</td>\n      <td>202403297025211</td>\n      <td>F25211</td>\n      <td>2024-03-29</td>\n      <td>TD</td>\n      <td>BILERCY</td>\n      <td>None</td>\n      <td>17:44:30</td>\n      <td>17:49:30</td>\n      <td>17:45:00</td>\n      <td>...</td>\n      <td>10.0</td>\n      <td>None</td>\n      <td>None</td>\n      <td>None</td>\n      <td>None</td>\n      <td>False</td>\n      <td>False</td>\n      <td>None</td>\n      <td>None</td>\n      <td>None</td>\n    </tr>\n    <tr>\n      <th>3</th>\n      <td>17:27:16.599408</td>\n      <td>202403297420713</td>\n      <td>J20713</td>\n      <td>2024-03-29</td>\n      <td>CIS</td>\n      <td>CHLSFLD</td>\n      <td>None</td>\n      <td>17:27:30</td>\n      <td>17:28:00</td>\n      <td>17:28:00</td>\n      <td>...</td>\n      <td>8.0</td>\n      <td>None</td>\n      <td>None</td>\n      <td>None</td>\n      <td>None</td>\n      <td>False</td>\n      <td>False</td>\n      <td>None</td>\n      <td>None</td>\n      <td>None</td>\n    </tr>\n    <tr>\n      <th>4</th>\n      <td>17:27:23.812408</td>\n      <td>202403298731420</td>\n      <td>W31420</td>\n      <td>2024-03-29</td>\n      <td>None</td>\n      <td>TABY</td>\n      <td>None</td>\n      <td>17:30:30</td>\n      <td>17:31:30</td>\n      <td>17:31:00</td>\n      <td>...</td>\n      <td>NaN</td>\n      <td>None</td>\n      <td>None</td>\n      <td>None</td>\n      <td>None</td>\n      <td>False</td>\n      <td>False</td>\n      <td>None</td>\n      <td>None</td>\n      <td>None</td>\n    </tr>\n    <tr>\n      <th>...</th>\n      <td>...</td>\n      <td>...</td>\n      <td>...</td>\n      <td>...</td>\n      <td>...</td>\n      <td>...</td>\n      <td>...</td>\n      <td>...</td>\n      <td>...</td>\n      <td>...</td>\n      <td>...</td>\n      <td>...</td>\n      <td>...</td>\n      <td>...</td>\n      <td>...</td>\n      <td>...</td>\n      <td>...</td>\n      <td>...</td>\n      <td>...</td>\n      <td>...</td>\n      <td>...</td>\n    </tr>\n    <tr>\n      <th>121818</th>\n      <td>17:18:00.649408</td>\n      <td>202403317126913</td>\n      <td>G26913</td>\n      <td>2024-03-31</td>\n      <td>Darwin</td>\n      <td>HARLSDN</td>\n      <td>None</td>\n      <td>16:49:00</td>\n      <td>16:49:30</td>\n      <td>16:49:00</td>\n      <td>...</td>\n      <td>NaN</td>\n      <td>None</td>\n      <td>None</td>\n      <td>None</td>\n      <td>None</td>\n      <td>True</td>\n      <td>True</td>\n      <td>None</td>\n      <td>None</td>\n      <td>None</td>\n    </tr>\n    <tr>\n      <th>121819</th>\n      <td>17:18:00.650408</td>\n      <td>202403317126544</td>\n      <td>G26544</td>\n      <td>2024-03-31</td>\n      <td>Darwin</td>\n      <td>HARLSDN</td>\n      <td>None</td>\n      <td>17:12:00</td>\n      <td>17:12:30</td>\n      <td>17:12:00</td>\n      <td>...</td>\n      <td>NaN</td>\n      <td>None</td>\n      <td>None</td>\n      <td>None</td>\n      <td>None</td>\n      <td>True</td>\n      <td>True</td>\n      <td>None</td>\n      <td>None</td>\n      <td>None</td>\n    </tr>\n    <tr>\n      <th>121820</th>\n      <td>17:18:00.650408</td>\n      <td>202403317126544</td>\n      <td>G26544</td>\n      <td>2024-03-31</td>\n      <td>Darwin</td>\n      <td>WLSDNJL</td>\n      <td>None</td>\n      <td>17:14:00</td>\n      <td>17:14:30</td>\n      <td>17:14:00</td>\n      <td>...</td>\n      <td>NaN</td>\n      <td>None</td>\n      <td>None</td>\n      <td>None</td>\n      <td>None</td>\n      <td>True</td>\n      <td>True</td>\n      <td>None</td>\n      <td>None</td>\n      <td>None</td>\n    </tr>\n    <tr>\n      <th>121821</th>\n      <td>17:18:00.650408</td>\n      <td>202403317126544</td>\n      <td>G26544</td>\n      <td>2024-03-31</td>\n      <td>Darwin</td>\n      <td>KENSLG</td>\n      <td>None</td>\n      <td>17:16:30</td>\n      <td>17:17:00</td>\n      <td>17:17:00</td>\n      <td>...</td>\n      <td>NaN</td>\n      <td>None</td>\n      <td>None</td>\n      <td>None</td>\n      <td>None</td>\n      <td>True</td>\n      <td>True</td>\n      <td>None</td>\n      <td>None</td>\n      <td>None</td>\n    </tr>\n    <tr>\n      <th>121822</th>\n      <td>17:18:00.650408</td>\n      <td>202403317126544</td>\n      <td>G26544</td>\n      <td>2024-03-31</td>\n      <td>Darwin</td>\n      <td>QPRK</td>\n      <td>None</td>\n      <td>17:20:30</td>\n      <td>17:22:30</td>\n      <td>17:21:00</td>\n      <td>...</td>\n      <td>NaN</td>\n      <td>None</td>\n      <td>None</td>\n      <td>None</td>\n      <td>None</td>\n      <td>True</td>\n      <td>True</td>\n      <td>None</td>\n      <td>None</td>\n      <td>None</td>\n    </tr>\n  </tbody>\n</table>\n<p>121823 rows × 24 columns</p>\n</div>"
     },
     "metadata": {},
     "output_type": "display_data"
    }
   ],
   "source": [
    "display(df)"
   ],
   "metadata": {
    "collapsed": false,
    "ExecuteTime": {
     "end_time": "2024-04-01T20:25:14.286754300Z",
     "start_time": "2024-04-01T20:25:14.054909400Z"
    }
   },
   "id": "410da52cab058866",
   "execution_count": 4
  },
  {
   "cell_type": "code",
   "outputs": [
    {
     "data": {
      "text/plain": "Index(['message_time', 'route_id', 'unique_id', 'service_start_date',\n       'update_origin', 'train_platform', 'working_time_pass',\n       'working_time_arrival', 'working_time_departure',\n       'planned_time_arrival', 'planned_time_departure', 'actual_arrival_time',\n       'actual_departure_time', 'platform', 'train_length', 'estimated_time',\n       'source', 'actual_time', 'actual_time_class', 'is_delayed_arrival',\n       'is_delayed_departure', 'late_code', 'source_instance',\n       'estimated_time_minutes'],\n      dtype='object')"
     },
     "execution_count": 5,
     "metadata": {},
     "output_type": "execute_result"
    }
   ],
   "source": [
    "df.columns"
   ],
   "metadata": {
    "collapsed": false,
    "ExecuteTime": {
     "end_time": "2024-04-01T20:25:15.425122900Z",
     "start_time": "2024-04-01T20:25:15.406004600Z"
    }
   },
   "id": "f991796bc1000d99",
   "execution_count": 5
  },
  {
   "cell_type": "code",
   "outputs": [],
   "source": [
    "column_names=['message_time', 'route_id', 'unique_id', 'service_start_date',\n",
    "       'update_origin', 'train_platform', 'working_time_pass',\n",
    "       'working_time_arrival', 'working_time_departure',\n",
    "       'planned_time_arrival', 'planned_time_departure', 'actual_arrival_time',\n",
    "       'actual_departure_time', 'platform', 'train_length', 'estimated_time',\n",
    "       'source', 'actual_time', 'actual_time_class', 'is_delayed_arrival',\n",
    "       'is_delayed_departure', 'late_code', 'source_instance',\n",
    "       'estimated_time_minutes']"
   ],
   "metadata": {
    "collapsed": false,
    "ExecuteTime": {
     "end_time": "2024-04-01T20:25:17.037673200Z",
     "start_time": "2024-04-01T20:25:17.030665600Z"
    }
   },
   "id": "57c66060238adb48",
   "execution_count": 6
  },
  {
   "cell_type": "code",
   "outputs": [
    {
     "data": {
      "text/plain": "message_time\n13:58:22.943408    33\n19:19:56.605408    33\n02:51:00.178408    33\n15:12:01.407408    32\n09:10:29.651408    32\n                   ..\n17:22:31.758408     1\n17:22:32.245408     1\n23:24:15.662408     1\n23:24:15.682408     1\n17:22:39.225408     1\nName: count, Length: 51420, dtype: int64"
     },
     "metadata": {},
     "output_type": "display_data"
    },
    {
     "data": {
      "text/plain": "route_id\n202403317076198    160\n202403308308198    130\n202403318049422    125\n202403308052246    112\n202403298118089    108\n                  ... \n202403317873810      1\n202403317873807      1\n202403317873806      1\n202403317873809      1\n202403317089883      1\nName: count, Length: 24465, dtype: int64"
     },
     "metadata": {},
     "output_type": "display_data"
    },
    {
     "data": {
      "text/plain": "unique_id\nF76198    160\nS08198    130\nP49422    125\nP52246    112\nQ18089    108\n         ... \nW00511      1\nC13393      1\nF34252      1\nW33601      1\nF89883      1\nName: count, Length: 24237, dtype: int64"
     },
     "metadata": {},
     "output_type": "display_data"
    },
    {
     "data": {
      "text/plain": "service_start_date\n2024-03-30    64498\n2024-03-31    38065\n2024-03-29    19241\n2024-04-01       19\nName: count, dtype: int64"
     },
     "metadata": {},
     "output_type": "display_data"
    },
    {
     "data": {
      "text/plain": "update_origin\nTD             45344\nDarwin         29494\nCIS            29375\nTrust          13115\nTyrell           384\nWorkstation       64\nName: count, dtype: int64"
     },
     "metadata": {},
     "output_type": "display_data"
    },
    {
     "data": {
      "text/plain": "train_platform\nLNDNBDE    779\nECROYDN    676\nWLSDNJL    563\nGTWK       549\nCLPHMJM    529\n          ... \nCWDN941      1\nCOPR105      1\nSTCN         1\nLLDODGF      1\nNLRT478      1\nName: count, Length: 2810, dtype: int64"
     },
     "metadata": {},
     "output_type": "display_data"
    },
    {
     "data": {
      "text/plain": "Series([], Name: count, dtype: int64)"
     },
     "metadata": {},
     "output_type": "display_data"
    },
    {
     "data": {
      "text/plain": "working_time_arrival\n00:01:00    151\n18:22:00    129\n17:59:00    118\n14:52:00    115\n17:26:00    108\n           ... \n01:46:30      1\n04:25:00      1\n02:46:30      1\n02:20:00      1\n01:47:00      1\nName: count, Length: 2748, dtype: int64"
     },
     "metadata": {},
     "output_type": "display_data"
    },
    {
     "data": {
      "text/plain": "working_time_departure\n11:45:00    119\n08:35:00    118\n11:26:00    114\n17:47:00    113\n18:22:30    112\n           ... \n04:40:00      1\n04:47:30      1\n04:46:00      1\n01:37:30      1\n01:07:30      1\nName: count, Length: 2741, dtype: int64"
     },
     "metadata": {},
     "output_type": "display_data"
    },
    {
     "data": {
      "text/plain": "planned_time_arrival\n14:52:00    219\n18:22:00    205\n18:01:00    197\n18:25:00    188\n10:11:00    185\n           ... \n04:09:00      1\n04:01:00      1\n04:25:00      1\n04:43:00      1\n03:34:00      1\nName: count, Length: 1361, dtype: int64"
     },
     "metadata": {},
     "output_type": "display_data"
    },
    {
     "data": {
      "text/plain": "planned_time_departure\n09:52:00    199\n17:22:00    198\n17:47:00    197\n11:45:00    197\n11:26:00    191\n           ... \n03:45:00      1\n03:42:00      1\n04:01:00      1\n04:14:00      1\n02:57:00      1\nName: count, Length: 1352, dtype: int64"
     },
     "metadata": {},
     "output_type": "display_data"
    },
    {
     "data": {
      "text/plain": "actual_arrival_time\n18:01:00    179\n18:20:00    176\n09:35:00    171\n18:25:00    170\n15:52:00    166\n           ... \n02:34:00      1\n02:47:00      1\n02:31:00      1\n02:38:00      1\n03:35:00      1\nName: count, Length: 1430, dtype: int64"
     },
     "metadata": {},
     "output_type": "display_data"
    },
    {
     "data": {
      "text/plain": "actual_departure_time\n15:50:00    213\n14:35:00    201\n10:12:00    201\n18:01:00    198\n11:08:00    196\n           ... \n02:48:00      1\n03:06:00      1\n03:40:00      1\n02:15:00      1\n02:59:00      1\nName: count, Length: 1429, dtype: int64"
     },
     "metadata": {},
     "output_type": "display_data"
    },
    {
     "data": {
      "text/plain": "platform\n2      44684\n1      42657\n3       8799\n4       6430\n5       1751\n       ...  \n8C         1\n18         1\nDML        1\nGL1        1\nMS         1\nName: count, Length: 120, dtype: int64"
     },
     "metadata": {},
     "output_type": "display_data"
    },
    {
     "data": {
      "text/plain": "train_length\n8.0     14437\n4.0      5242\n12.0     5197\n5.0      3835\n10.0     3019\n3.0      2957\n6.0      2951\n2.0      1353\n7.0       214\n9.0        91\n11.0       39\nName: count, dtype: int64"
     },
     "metadata": {},
     "output_type": "display_data"
    },
    {
     "data": {
      "text/plain": "Series([], Name: count, dtype: int64)"
     },
     "metadata": {},
     "output_type": "display_data"
    },
    {
     "data": {
      "text/plain": "Series([], Name: count, dtype: int64)"
     },
     "metadata": {},
     "output_type": "display_data"
    },
    {
     "data": {
      "text/plain": "Series([], Name: count, dtype: int64)"
     },
     "metadata": {},
     "output_type": "display_data"
    },
    {
     "data": {
      "text/plain": "Series([], Name: count, dtype: int64)"
     },
     "metadata": {},
     "output_type": "display_data"
    },
    {
     "data": {
      "text/plain": "is_delayed_arrival\nFalse    110986\nTrue      10837\nName: count, dtype: int64"
     },
     "metadata": {},
     "output_type": "display_data"
    },
    {
     "data": {
      "text/plain": "is_delayed_departure\nFalse    110373\nTrue      11450\nName: count, dtype: int64"
     },
     "metadata": {},
     "output_type": "display_data"
    },
    {
     "data": {
      "text/plain": "Series([], Name: count, dtype: int64)"
     },
     "metadata": {},
     "output_type": "display_data"
    },
    {
     "data": {
      "text/plain": "Series([], Name: count, dtype: int64)"
     },
     "metadata": {},
     "output_type": "display_data"
    },
    {
     "data": {
      "text/plain": "Series([], Name: count, dtype: int64)"
     },
     "metadata": {},
     "output_type": "display_data"
    }
   ],
   "source": [
    "valcountdict={}\n",
    "for column in column_names:\n",
    "    display(df[column].value_counts())"
   ],
   "metadata": {
    "collapsed": false,
    "ExecuteTime": {
     "end_time": "2024-04-01T20:25:18.386944400Z",
     "start_time": "2024-04-01T20:25:17.751915700Z"
    }
   },
   "id": "1ff534c586ea2a7",
   "execution_count": 7
  },
  {
   "cell_type": "code",
   "outputs": [
    {
     "data": {
      "text/plain": "message_time              121823\nroute_id                  121823\nunique_id                 121823\nservice_start_date        121823\nupdate_origin             121823\ntrain_platform            121823\nworking_time_pass         121823\nworking_time_arrival      121823\nworking_time_departure    121823\nplanned_time_arrival      121823\nplanned_time_departure    121823\nactual_arrival_time       121823\nactual_departure_time     121823\nplatform                  121823\ntrain_length              121823\nestimated_time            121823\nsource                    121823\nactual_time               121823\nactual_time_class         121823\nis_delayed_arrival        121823\nis_delayed_departure      121823\nlate_code                 121823\nsource_instance           121823\nestimated_time_minutes    121823\ndtype: int64"
     },
     "execution_count": 8,
     "metadata": {},
     "output_type": "execute_result"
    }
   ],
   "source": [
    "df.isna().count()"
   ],
   "metadata": {
    "collapsed": false,
    "ExecuteTime": {
     "end_time": "2024-04-01T20:25:19.725821400Z",
     "start_time": "2024-04-01T20:25:19.574173800Z"
    }
   },
   "id": "73be3974b28f3723",
   "execution_count": 8
  },
  {
   "cell_type": "code",
   "outputs": [
    {
     "data": {
      "text/plain": "121823"
     },
     "execution_count": 9,
     "metadata": {},
     "output_type": "execute_result"
    }
   ],
   "source": [
    "df.duplicated().count()"
   ],
   "metadata": {
    "collapsed": false,
    "ExecuteTime": {
     "end_time": "2024-04-01T20:25:20.956644700Z",
     "start_time": "2024-04-01T20:25:20.644422800Z"
    }
   },
   "id": "a3e839b60e9a95fb",
   "execution_count": 9
  },
  {
   "cell_type": "code",
   "outputs": [
    {
     "name": "stdout",
     "output_type": "stream",
     "text": [
      "<class 'pandas.core.frame.DataFrame'>\n",
      "RangeIndex: 121823 entries, 0 to 121822\n",
      "Data columns (total 24 columns):\n",
      " #   Column                  Non-Null Count   Dtype  \n",
      "---  ------                  --------------   -----  \n",
      " 0   message_time            121823 non-null  object \n",
      " 1   route_id                121823 non-null  object \n",
      " 2   unique_id               121823 non-null  object \n",
      " 3   service_start_date      121823 non-null  object \n",
      " 4   update_origin           117776 non-null  object \n",
      " 5   train_platform          121823 non-null  object \n",
      " 6   working_time_pass       0 non-null       object \n",
      " 7   working_time_arrival    121823 non-null  object \n",
      " 8   working_time_departure  121823 non-null  object \n",
      " 9   planned_time_arrival    111060 non-null  object \n",
      " 10  planned_time_departure  110507 non-null  object \n",
      " 11  actual_arrival_time     100342 non-null  object \n",
      " 12  actual_departure_time   112009 non-null  object \n",
      " 13  platform                114701 non-null  object \n",
      " 14  train_length            39335 non-null   float64\n",
      " 15  estimated_time          0 non-null       object \n",
      " 16  source                  0 non-null       object \n",
      " 17  actual_time             0 non-null       object \n",
      " 18  actual_time_class       0 non-null       object \n",
      " 19  is_delayed_arrival      121823 non-null  bool   \n",
      " 20  is_delayed_departure    121823 non-null  bool   \n",
      " 21  late_code               0 non-null       object \n",
      " 22  source_instance         0 non-null       object \n",
      " 23  estimated_time_minutes  0 non-null       object \n",
      "dtypes: bool(2), float64(1), object(21)\n",
      "memory usage: 20.7+ MB\n"
     ]
    }
   ],
   "source": [
    "df.info()"
   ],
   "metadata": {
    "collapsed": false,
    "ExecuteTime": {
     "end_time": "2024-04-01T20:25:21.380213200Z",
     "start_time": "2024-04-01T20:25:21.249036300Z"
    }
   },
   "id": "3e93f9528ec01b98",
   "execution_count": 10
  },
  {
   "cell_type": "code",
   "outputs": [
    {
     "data": {
      "text/plain": "      message_time         route_id unique_id service_start_date  \\\n0  17:27:16.584408  202403297025211    F25211         2024-03-29   \n1  17:27:16.584408  202403297025211    F25211         2024-03-29   \n2  17:27:16.584408  202403297025211    F25211         2024-03-29   \n3  17:27:16.599408  202403297420713    J20713         2024-03-29   \n4  17:27:23.812408  202403298731420    W31420         2024-03-29   \n\n  update_origin train_platform working_time_pass working_time_arrival  \\\n0            TD        ROMFORD              None             17:29:30   \n1            TD        SHENFLD              None             17:38:30   \n2            TD        BILERCY              None             17:44:30   \n3           CIS        CHLSFLD              None             17:27:30   \n4          None           TABY              None             17:30:30   \n\n  working_time_departure planned_time_arrival  ... train_length  \\\n0               17:30:00             17:30:00  ...         10.0   \n1               17:39:00             17:39:00  ...         10.0   \n2               17:49:30             17:45:00  ...         10.0   \n3               17:28:00             17:28:00  ...          8.0   \n4               17:31:30             17:31:00  ...          NaN   \n\n  estimated_time source actual_time  actual_time_class is_delayed_arrival  \\\n0           None   None        None               None              False   \n1           None   None        None               None              False   \n2           None   None        None               None              False   \n3           None   None        None               None              False   \n4           None   None        None               None              False   \n\n  is_delayed_departure late_code source_instance  estimated_time_minutes  \n0                False      None            None                    None  \n1                False      None            None                    None  \n2                False      None            None                    None  \n3                False      None            None                    None  \n4                False      None            None                    None  \n\n[5 rows x 24 columns]",
      "text/html": "<div>\n<style scoped>\n    .dataframe tbody tr th:only-of-type {\n        vertical-align: middle;\n    }\n\n    .dataframe tbody tr th {\n        vertical-align: top;\n    }\n\n    .dataframe thead th {\n        text-align: right;\n    }\n</style>\n<table border=\"1\" class=\"dataframe\">\n  <thead>\n    <tr style=\"text-align: right;\">\n      <th></th>\n      <th>message_time</th>\n      <th>route_id</th>\n      <th>unique_id</th>\n      <th>service_start_date</th>\n      <th>update_origin</th>\n      <th>train_platform</th>\n      <th>working_time_pass</th>\n      <th>working_time_arrival</th>\n      <th>working_time_departure</th>\n      <th>planned_time_arrival</th>\n      <th>...</th>\n      <th>train_length</th>\n      <th>estimated_time</th>\n      <th>source</th>\n      <th>actual_time</th>\n      <th>actual_time_class</th>\n      <th>is_delayed_arrival</th>\n      <th>is_delayed_departure</th>\n      <th>late_code</th>\n      <th>source_instance</th>\n      <th>estimated_time_minutes</th>\n    </tr>\n  </thead>\n  <tbody>\n    <tr>\n      <th>0</th>\n      <td>17:27:16.584408</td>\n      <td>202403297025211</td>\n      <td>F25211</td>\n      <td>2024-03-29</td>\n      <td>TD</td>\n      <td>ROMFORD</td>\n      <td>None</td>\n      <td>17:29:30</td>\n      <td>17:30:00</td>\n      <td>17:30:00</td>\n      <td>...</td>\n      <td>10.0</td>\n      <td>None</td>\n      <td>None</td>\n      <td>None</td>\n      <td>None</td>\n      <td>False</td>\n      <td>False</td>\n      <td>None</td>\n      <td>None</td>\n      <td>None</td>\n    </tr>\n    <tr>\n      <th>1</th>\n      <td>17:27:16.584408</td>\n      <td>202403297025211</td>\n      <td>F25211</td>\n      <td>2024-03-29</td>\n      <td>TD</td>\n      <td>SHENFLD</td>\n      <td>None</td>\n      <td>17:38:30</td>\n      <td>17:39:00</td>\n      <td>17:39:00</td>\n      <td>...</td>\n      <td>10.0</td>\n      <td>None</td>\n      <td>None</td>\n      <td>None</td>\n      <td>None</td>\n      <td>False</td>\n      <td>False</td>\n      <td>None</td>\n      <td>None</td>\n      <td>None</td>\n    </tr>\n    <tr>\n      <th>2</th>\n      <td>17:27:16.584408</td>\n      <td>202403297025211</td>\n      <td>F25211</td>\n      <td>2024-03-29</td>\n      <td>TD</td>\n      <td>BILERCY</td>\n      <td>None</td>\n      <td>17:44:30</td>\n      <td>17:49:30</td>\n      <td>17:45:00</td>\n      <td>...</td>\n      <td>10.0</td>\n      <td>None</td>\n      <td>None</td>\n      <td>None</td>\n      <td>None</td>\n      <td>False</td>\n      <td>False</td>\n      <td>None</td>\n      <td>None</td>\n      <td>None</td>\n    </tr>\n    <tr>\n      <th>3</th>\n      <td>17:27:16.599408</td>\n      <td>202403297420713</td>\n      <td>J20713</td>\n      <td>2024-03-29</td>\n      <td>CIS</td>\n      <td>CHLSFLD</td>\n      <td>None</td>\n      <td>17:27:30</td>\n      <td>17:28:00</td>\n      <td>17:28:00</td>\n      <td>...</td>\n      <td>8.0</td>\n      <td>None</td>\n      <td>None</td>\n      <td>None</td>\n      <td>None</td>\n      <td>False</td>\n      <td>False</td>\n      <td>None</td>\n      <td>None</td>\n      <td>None</td>\n    </tr>\n    <tr>\n      <th>4</th>\n      <td>17:27:23.812408</td>\n      <td>202403298731420</td>\n      <td>W31420</td>\n      <td>2024-03-29</td>\n      <td>None</td>\n      <td>TABY</td>\n      <td>None</td>\n      <td>17:30:30</td>\n      <td>17:31:30</td>\n      <td>17:31:00</td>\n      <td>...</td>\n      <td>NaN</td>\n      <td>None</td>\n      <td>None</td>\n      <td>None</td>\n      <td>None</td>\n      <td>False</td>\n      <td>False</td>\n      <td>None</td>\n      <td>None</td>\n      <td>None</td>\n    </tr>\n  </tbody>\n</table>\n<p>5 rows × 24 columns</p>\n</div>"
     },
     "execution_count": 11,
     "metadata": {},
     "output_type": "execute_result"
    }
   ],
   "source": [
    "df.head()"
   ],
   "metadata": {
    "collapsed": false,
    "ExecuteTime": {
     "end_time": "2024-04-01T20:25:22.244958500Z",
     "start_time": "2024-04-01T20:25:22.150070Z"
    }
   },
   "id": "12b7c2fcd899fca5",
   "execution_count": 11
  },
  {
   "cell_type": "code",
   "outputs": [],
   "source": [
    "df['service_start_date']=pd.to_datetime(df['service_start_date'])\n",
    "df['route_id'] = df['route_id'].astype(str)\n",
    "df['working_time_arrival'] = pd.to_datetime(df['working_time_arrival'],format='%H:%M:%S').dt.time\n",
    "# df['working_time_arrival'] = pd.to_datetime(df['working_time_arrival'],format='%H:%M:%S')\n",
    "# df['planned_time_departure'] = pd.to_datetime(df['planned_time_departure'],format='%H:%M:%S')\n",
    "# df['planned_time_arrival'] = pd.to_datetime(df['planned_time_arrival'],format='%H:%M:%S')"
   ],
   "metadata": {
    "collapsed": false,
    "ExecuteTime": {
     "end_time": "2024-04-01T20:25:22.981448700Z",
     "start_time": "2024-04-01T20:25:22.807311400Z"
    }
   },
   "id": "d3d73305e7ad14ec",
   "execution_count": 12
  },
  {
   "cell_type": "code",
   "outputs": [
    {
     "data": {
      "text/plain": "      message_time         route_id unique_id service_start_date  \\\n0  17:27:16.584408  202403297025211    F25211         2024-03-29   \n1  17:27:16.584408  202403297025211    F25211         2024-03-29   \n2  17:27:16.584408  202403297025211    F25211         2024-03-29   \n3  17:27:16.599408  202403297420713    J20713         2024-03-29   \n4  17:27:23.812408  202403298731420    W31420         2024-03-29   \n\n  update_origin train_platform working_time_pass working_time_arrival  \\\n0            TD        ROMFORD              None             17:29:30   \n1            TD        SHENFLD              None             17:38:30   \n2            TD        BILERCY              None             17:44:30   \n3           CIS        CHLSFLD              None             17:27:30   \n4          None           TABY              None             17:30:30   \n\n  working_time_departure planned_time_arrival  ... train_length  \\\n0               17:30:00             17:30:00  ...         10.0   \n1               17:39:00             17:39:00  ...         10.0   \n2               17:49:30             17:45:00  ...         10.0   \n3               17:28:00             17:28:00  ...          8.0   \n4               17:31:30             17:31:00  ...          NaN   \n\n  estimated_time source actual_time  actual_time_class is_delayed_arrival  \\\n0           None   None        None               None              False   \n1           None   None        None               None              False   \n2           None   None        None               None              False   \n3           None   None        None               None              False   \n4           None   None        None               None              False   \n\n  is_delayed_departure late_code source_instance  estimated_time_minutes  \n0                False      None            None                    None  \n1                False      None            None                    None  \n2                False      None            None                    None  \n3                False      None            None                    None  \n4                False      None            None                    None  \n\n[5 rows x 24 columns]",
      "text/html": "<div>\n<style scoped>\n    .dataframe tbody tr th:only-of-type {\n        vertical-align: middle;\n    }\n\n    .dataframe tbody tr th {\n        vertical-align: top;\n    }\n\n    .dataframe thead th {\n        text-align: right;\n    }\n</style>\n<table border=\"1\" class=\"dataframe\">\n  <thead>\n    <tr style=\"text-align: right;\">\n      <th></th>\n      <th>message_time</th>\n      <th>route_id</th>\n      <th>unique_id</th>\n      <th>service_start_date</th>\n      <th>update_origin</th>\n      <th>train_platform</th>\n      <th>working_time_pass</th>\n      <th>working_time_arrival</th>\n      <th>working_time_departure</th>\n      <th>planned_time_arrival</th>\n      <th>...</th>\n      <th>train_length</th>\n      <th>estimated_time</th>\n      <th>source</th>\n      <th>actual_time</th>\n      <th>actual_time_class</th>\n      <th>is_delayed_arrival</th>\n      <th>is_delayed_departure</th>\n      <th>late_code</th>\n      <th>source_instance</th>\n      <th>estimated_time_minutes</th>\n    </tr>\n  </thead>\n  <tbody>\n    <tr>\n      <th>0</th>\n      <td>17:27:16.584408</td>\n      <td>202403297025211</td>\n      <td>F25211</td>\n      <td>2024-03-29</td>\n      <td>TD</td>\n      <td>ROMFORD</td>\n      <td>None</td>\n      <td>17:29:30</td>\n      <td>17:30:00</td>\n      <td>17:30:00</td>\n      <td>...</td>\n      <td>10.0</td>\n      <td>None</td>\n      <td>None</td>\n      <td>None</td>\n      <td>None</td>\n      <td>False</td>\n      <td>False</td>\n      <td>None</td>\n      <td>None</td>\n      <td>None</td>\n    </tr>\n    <tr>\n      <th>1</th>\n      <td>17:27:16.584408</td>\n      <td>202403297025211</td>\n      <td>F25211</td>\n      <td>2024-03-29</td>\n      <td>TD</td>\n      <td>SHENFLD</td>\n      <td>None</td>\n      <td>17:38:30</td>\n      <td>17:39:00</td>\n      <td>17:39:00</td>\n      <td>...</td>\n      <td>10.0</td>\n      <td>None</td>\n      <td>None</td>\n      <td>None</td>\n      <td>None</td>\n      <td>False</td>\n      <td>False</td>\n      <td>None</td>\n      <td>None</td>\n      <td>None</td>\n    </tr>\n    <tr>\n      <th>2</th>\n      <td>17:27:16.584408</td>\n      <td>202403297025211</td>\n      <td>F25211</td>\n      <td>2024-03-29</td>\n      <td>TD</td>\n      <td>BILERCY</td>\n      <td>None</td>\n      <td>17:44:30</td>\n      <td>17:49:30</td>\n      <td>17:45:00</td>\n      <td>...</td>\n      <td>10.0</td>\n      <td>None</td>\n      <td>None</td>\n      <td>None</td>\n      <td>None</td>\n      <td>False</td>\n      <td>False</td>\n      <td>None</td>\n      <td>None</td>\n      <td>None</td>\n    </tr>\n    <tr>\n      <th>3</th>\n      <td>17:27:16.599408</td>\n      <td>202403297420713</td>\n      <td>J20713</td>\n      <td>2024-03-29</td>\n      <td>CIS</td>\n      <td>CHLSFLD</td>\n      <td>None</td>\n      <td>17:27:30</td>\n      <td>17:28:00</td>\n      <td>17:28:00</td>\n      <td>...</td>\n      <td>8.0</td>\n      <td>None</td>\n      <td>None</td>\n      <td>None</td>\n      <td>None</td>\n      <td>False</td>\n      <td>False</td>\n      <td>None</td>\n      <td>None</td>\n      <td>None</td>\n    </tr>\n    <tr>\n      <th>4</th>\n      <td>17:27:23.812408</td>\n      <td>202403298731420</td>\n      <td>W31420</td>\n      <td>2024-03-29</td>\n      <td>None</td>\n      <td>TABY</td>\n      <td>None</td>\n      <td>17:30:30</td>\n      <td>17:31:30</td>\n      <td>17:31:00</td>\n      <td>...</td>\n      <td>NaN</td>\n      <td>None</td>\n      <td>None</td>\n      <td>None</td>\n      <td>None</td>\n      <td>False</td>\n      <td>False</td>\n      <td>None</td>\n      <td>None</td>\n      <td>None</td>\n    </tr>\n  </tbody>\n</table>\n<p>5 rows × 24 columns</p>\n</div>"
     },
     "execution_count": 14,
     "metadata": {},
     "output_type": "execute_result"
    }
   ],
   "source": [
    "df.head()"
   ],
   "metadata": {
    "collapsed": false,
    "ExecuteTime": {
     "end_time": "2024-04-01T20:25:39.699818300Z",
     "start_time": "2024-04-01T20:25:39.646821500Z"
    }
   },
   "id": "e95385bcf5d29aad",
   "execution_count": 14
  },
  {
   "cell_type": "code",
   "outputs": [
    {
     "ename": "AttributeError",
     "evalue": "Can only use .dt accessor with datetimelike values",
     "output_type": "error",
     "traceback": [
      "\u001B[1;31m---------------------------------------------------------------------------\u001B[0m",
      "\u001B[1;31mAttributeError\u001B[0m                            Traceback (most recent call last)",
      "Cell \u001B[1;32mIn[15], line 1\u001B[0m\n\u001B[1;32m----> 1\u001B[0m df[\u001B[38;5;124m'\u001B[39m\u001B[38;5;124mworking_time_departure\u001B[39m\u001B[38;5;124m'\u001B[39m]\u001B[38;5;241m=\u001B[39mdf[\u001B[38;5;124m'\u001B[39m\u001B[38;5;124mworking_time_departure\u001B[39m\u001B[38;5;124m'\u001B[39m]\u001B[38;5;241m.\u001B[39mdt\u001B[38;5;241m.\u001B[39mstrftime(\u001B[38;5;124m'\u001B[39m\u001B[38;5;124m%\u001B[39m\u001B[38;5;124mH:\u001B[39m\u001B[38;5;124m%\u001B[39m\u001B[38;5;124mM:\u001B[39m\u001B[38;5;124m%\u001B[39m\u001B[38;5;124mS\u001B[39m\u001B[38;5;124m'\u001B[39m)\n\u001B[0;32m      2\u001B[0m df\u001B[38;5;241m.\u001B[39mhead()\n",
      "File \u001B[1;32m~\\anaconda3\\Lib\\site-packages\\pandas\\core\\generic.py:6296\u001B[0m, in \u001B[0;36mNDFrame.__getattr__\u001B[1;34m(self, name)\u001B[0m\n\u001B[0;32m   6289\u001B[0m \u001B[38;5;28;01mif\u001B[39;00m (\n\u001B[0;32m   6290\u001B[0m     name \u001B[38;5;129;01mnot\u001B[39;00m \u001B[38;5;129;01min\u001B[39;00m \u001B[38;5;28mself\u001B[39m\u001B[38;5;241m.\u001B[39m_internal_names_set\n\u001B[0;32m   6291\u001B[0m     \u001B[38;5;129;01mand\u001B[39;00m name \u001B[38;5;129;01mnot\u001B[39;00m \u001B[38;5;129;01min\u001B[39;00m \u001B[38;5;28mself\u001B[39m\u001B[38;5;241m.\u001B[39m_metadata\n\u001B[0;32m   6292\u001B[0m     \u001B[38;5;129;01mand\u001B[39;00m name \u001B[38;5;129;01mnot\u001B[39;00m \u001B[38;5;129;01min\u001B[39;00m \u001B[38;5;28mself\u001B[39m\u001B[38;5;241m.\u001B[39m_accessors\n\u001B[0;32m   6293\u001B[0m     \u001B[38;5;129;01mand\u001B[39;00m \u001B[38;5;28mself\u001B[39m\u001B[38;5;241m.\u001B[39m_info_axis\u001B[38;5;241m.\u001B[39m_can_hold_identifiers_and_holds_name(name)\n\u001B[0;32m   6294\u001B[0m ):\n\u001B[0;32m   6295\u001B[0m     \u001B[38;5;28;01mreturn\u001B[39;00m \u001B[38;5;28mself\u001B[39m[name]\n\u001B[1;32m-> 6296\u001B[0m \u001B[38;5;28;01mreturn\u001B[39;00m \u001B[38;5;28mobject\u001B[39m\u001B[38;5;241m.\u001B[39m\u001B[38;5;21m__getattribute__\u001B[39m(\u001B[38;5;28mself\u001B[39m, name)\n",
      "File \u001B[1;32m~\\anaconda3\\Lib\\site-packages\\pandas\\core\\accessor.py:224\u001B[0m, in \u001B[0;36mCachedAccessor.__get__\u001B[1;34m(self, obj, cls)\u001B[0m\n\u001B[0;32m    221\u001B[0m \u001B[38;5;28;01mif\u001B[39;00m obj \u001B[38;5;129;01mis\u001B[39;00m \u001B[38;5;28;01mNone\u001B[39;00m:\n\u001B[0;32m    222\u001B[0m     \u001B[38;5;66;03m# we're accessing the attribute of the class, i.e., Dataset.geo\u001B[39;00m\n\u001B[0;32m    223\u001B[0m     \u001B[38;5;28;01mreturn\u001B[39;00m \u001B[38;5;28mself\u001B[39m\u001B[38;5;241m.\u001B[39m_accessor\n\u001B[1;32m--> 224\u001B[0m accessor_obj \u001B[38;5;241m=\u001B[39m \u001B[38;5;28mself\u001B[39m\u001B[38;5;241m.\u001B[39m_accessor(obj)\n\u001B[0;32m    225\u001B[0m \u001B[38;5;66;03m# Replace the property with the accessor object. Inspired by:\u001B[39;00m\n\u001B[0;32m    226\u001B[0m \u001B[38;5;66;03m# https://www.pydanny.com/cached-property.html\u001B[39;00m\n\u001B[0;32m    227\u001B[0m \u001B[38;5;66;03m# We need to use object.__setattr__ because we overwrite __setattr__ on\u001B[39;00m\n\u001B[0;32m    228\u001B[0m \u001B[38;5;66;03m# NDFrame\u001B[39;00m\n\u001B[0;32m    229\u001B[0m \u001B[38;5;28mobject\u001B[39m\u001B[38;5;241m.\u001B[39m\u001B[38;5;21m__setattr__\u001B[39m(obj, \u001B[38;5;28mself\u001B[39m\u001B[38;5;241m.\u001B[39m_name, accessor_obj)\n",
      "File \u001B[1;32m~\\anaconda3\\Lib\\site-packages\\pandas\\core\\indexes\\accessors.py:643\u001B[0m, in \u001B[0;36mCombinedDatetimelikeProperties.__new__\u001B[1;34m(cls, data)\u001B[0m\n\u001B[0;32m    640\u001B[0m \u001B[38;5;28;01melif\u001B[39;00m \u001B[38;5;28misinstance\u001B[39m(data\u001B[38;5;241m.\u001B[39mdtype, PeriodDtype):\n\u001B[0;32m    641\u001B[0m     \u001B[38;5;28;01mreturn\u001B[39;00m PeriodProperties(data, orig)\n\u001B[1;32m--> 643\u001B[0m \u001B[38;5;28;01mraise\u001B[39;00m \u001B[38;5;167;01mAttributeError\u001B[39;00m(\u001B[38;5;124m\"\u001B[39m\u001B[38;5;124mCan only use .dt accessor with datetimelike values\u001B[39m\u001B[38;5;124m\"\u001B[39m)\n",
      "\u001B[1;31mAttributeError\u001B[0m: Can only use .dt accessor with datetimelike values"
     ]
    }
   ],
   "source": [
    "df['working_time_departure']=df['working_time_departure'].dt.strftime('%H:%M:%S')\n",
    "df.head()"
   ],
   "metadata": {
    "collapsed": false,
    "ExecuteTime": {
     "end_time": "2024-04-01T20:25:43.291057100Z",
     "start_time": "2024-04-01T20:25:41.095565300Z"
    }
   },
   "id": "39015aab296e0e95",
   "execution_count": 15
  },
  {
   "cell_type": "code",
   "outputs": [
    {
     "name": "stdout",
     "output_type": "stream",
     "text": [
      "<class 'pandas.core.frame.DataFrame'>\n",
      "RangeIndex: 121823 entries, 0 to 121822\n",
      "Data columns (total 24 columns):\n",
      " #   Column                  Non-Null Count   Dtype         \n",
      "---  ------                  --------------   -----         \n",
      " 0   message_time            121823 non-null  object        \n",
      " 1   route_id                121823 non-null  object        \n",
      " 2   unique_id               121823 non-null  object        \n",
      " 3   service_start_date      121823 non-null  datetime64[ns]\n",
      " 4   update_origin           117776 non-null  object        \n",
      " 5   train_platform          121823 non-null  object        \n",
      " 6   working_time_pass       0 non-null       object        \n",
      " 7   working_time_arrival    121823 non-null  object        \n",
      " 8   working_time_departure  121823 non-null  object        \n",
      " 9   planned_time_arrival    111060 non-null  object        \n",
      " 10  planned_time_departure  110507 non-null  object        \n",
      " 11  actual_arrival_time     100342 non-null  object        \n",
      " 12  actual_departure_time   112009 non-null  object        \n",
      " 13  platform                114701 non-null  object        \n",
      " 14  train_length            39335 non-null   float64       \n",
      " 15  estimated_time          0 non-null       object        \n",
      " 16  source                  0 non-null       object        \n",
      " 17  actual_time             0 non-null       object        \n",
      " 18  actual_time_class       0 non-null       object        \n",
      " 19  is_delayed_arrival      121823 non-null  bool          \n",
      " 20  is_delayed_departure    121823 non-null  bool          \n",
      " 21  late_code               0 non-null       object        \n",
      " 22  source_instance         0 non-null       object        \n",
      " 23  estimated_time_minutes  0 non-null       object        \n",
      "dtypes: bool(2), datetime64[ns](1), float64(1), object(20)\n",
      "memory usage: 20.7+ MB\n"
     ]
    }
   ],
   "source": [
    "df.info()"
   ],
   "metadata": {
    "collapsed": false,
    "ExecuteTime": {
     "end_time": "2024-04-01T20:25:58.125919900Z",
     "start_time": "2024-04-01T20:25:58.015813100Z"
    }
   },
   "id": "7132b19c39c9f9d4",
   "execution_count": 16
  },
  {
   "cell_type": "code",
   "outputs": [
    {
     "data": {
      "text/plain": "      message_time         route_id unique_id service_start_date  \\\n0  17:27:16.584408  202403297025211    F25211         2024-03-29   \n1  17:27:16.584408  202403297025211    F25211         2024-03-29   \n2  17:27:16.584408  202403297025211    F25211         2024-03-29   \n3  17:27:16.599408  202403297420713    J20713         2024-03-29   \n4  17:27:23.812408  202403298731420    W31420         2024-03-29   \n\n  update_origin train_platform working_time_arrival working_time_departure  \\\n0            TD        ROMFORD             17:29:30               17:30:00   \n1            TD        SHENFLD             17:38:30               17:39:00   \n2            TD        BILERCY             17:44:30               17:49:30   \n3           CIS        CHLSFLD             17:27:30               17:28:00   \n4          None           TABY             17:30:30               17:31:30   \n\n  planned_time_arrival planned_time_departure actual_arrival_time  \\\n0             17:30:00               17:30:00            17:31:00   \n1             17:39:00               17:39:00            17:39:00   \n2             17:45:00               17:49:00            17:45:00   \n3             17:28:00               17:28:00            17:29:00   \n4             17:31:00               17:31:00            17:31:00   \n\n  actual_departure_time platform  train_length  is_delayed_arrival  \\\n0              17:31:00        3          10.0               False   \n1              17:39:00        4          10.0               False   \n2              17:49:00        2          10.0               False   \n3              17:30:00        2           8.0               False   \n4              17:31:00        1           NaN               False   \n\n   is_delayed_departure  \n0                 False  \n1                 False  \n2                 False  \n3                 False  \n4                 False  ",
      "text/html": "<div>\n<style scoped>\n    .dataframe tbody tr th:only-of-type {\n        vertical-align: middle;\n    }\n\n    .dataframe tbody tr th {\n        vertical-align: top;\n    }\n\n    .dataframe thead th {\n        text-align: right;\n    }\n</style>\n<table border=\"1\" class=\"dataframe\">\n  <thead>\n    <tr style=\"text-align: right;\">\n      <th></th>\n      <th>message_time</th>\n      <th>route_id</th>\n      <th>unique_id</th>\n      <th>service_start_date</th>\n      <th>update_origin</th>\n      <th>train_platform</th>\n      <th>working_time_arrival</th>\n      <th>working_time_departure</th>\n      <th>planned_time_arrival</th>\n      <th>planned_time_departure</th>\n      <th>actual_arrival_time</th>\n      <th>actual_departure_time</th>\n      <th>platform</th>\n      <th>train_length</th>\n      <th>is_delayed_arrival</th>\n      <th>is_delayed_departure</th>\n    </tr>\n  </thead>\n  <tbody>\n    <tr>\n      <th>0</th>\n      <td>17:27:16.584408</td>\n      <td>202403297025211</td>\n      <td>F25211</td>\n      <td>2024-03-29</td>\n      <td>TD</td>\n      <td>ROMFORD</td>\n      <td>17:29:30</td>\n      <td>17:30:00</td>\n      <td>17:30:00</td>\n      <td>17:30:00</td>\n      <td>17:31:00</td>\n      <td>17:31:00</td>\n      <td>3</td>\n      <td>10.0</td>\n      <td>False</td>\n      <td>False</td>\n    </tr>\n    <tr>\n      <th>1</th>\n      <td>17:27:16.584408</td>\n      <td>202403297025211</td>\n      <td>F25211</td>\n      <td>2024-03-29</td>\n      <td>TD</td>\n      <td>SHENFLD</td>\n      <td>17:38:30</td>\n      <td>17:39:00</td>\n      <td>17:39:00</td>\n      <td>17:39:00</td>\n      <td>17:39:00</td>\n      <td>17:39:00</td>\n      <td>4</td>\n      <td>10.0</td>\n      <td>False</td>\n      <td>False</td>\n    </tr>\n    <tr>\n      <th>2</th>\n      <td>17:27:16.584408</td>\n      <td>202403297025211</td>\n      <td>F25211</td>\n      <td>2024-03-29</td>\n      <td>TD</td>\n      <td>BILERCY</td>\n      <td>17:44:30</td>\n      <td>17:49:30</td>\n      <td>17:45:00</td>\n      <td>17:49:00</td>\n      <td>17:45:00</td>\n      <td>17:49:00</td>\n      <td>2</td>\n      <td>10.0</td>\n      <td>False</td>\n      <td>False</td>\n    </tr>\n    <tr>\n      <th>3</th>\n      <td>17:27:16.599408</td>\n      <td>202403297420713</td>\n      <td>J20713</td>\n      <td>2024-03-29</td>\n      <td>CIS</td>\n      <td>CHLSFLD</td>\n      <td>17:27:30</td>\n      <td>17:28:00</td>\n      <td>17:28:00</td>\n      <td>17:28:00</td>\n      <td>17:29:00</td>\n      <td>17:30:00</td>\n      <td>2</td>\n      <td>8.0</td>\n      <td>False</td>\n      <td>False</td>\n    </tr>\n    <tr>\n      <th>4</th>\n      <td>17:27:23.812408</td>\n      <td>202403298731420</td>\n      <td>W31420</td>\n      <td>2024-03-29</td>\n      <td>None</td>\n      <td>TABY</td>\n      <td>17:30:30</td>\n      <td>17:31:30</td>\n      <td>17:31:00</td>\n      <td>17:31:00</td>\n      <td>17:31:00</td>\n      <td>17:31:00</td>\n      <td>1</td>\n      <td>NaN</td>\n      <td>False</td>\n      <td>False</td>\n    </tr>\n  </tbody>\n</table>\n</div>"
     },
     "execution_count": 17,
     "metadata": {},
     "output_type": "execute_result"
    }
   ],
   "source": [
    "droppeddf=df.drop(columns=['working_time_pass','source','actual_time','actual_time_class','source_instance','late_code','estimated_time_minutes','estimated_time'])\n",
    "droppeddf.head()"
   ],
   "metadata": {
    "collapsed": false,
    "ExecuteTime": {
     "end_time": "2024-04-01T20:25:59.594808500Z",
     "start_time": "2024-04-01T20:25:59.539033300Z"
    }
   },
   "id": "a247fbcfc17a00b",
   "execution_count": 17
  },
  {
   "cell_type": "code",
   "outputs": [
    {
     "name": "stdout",
     "output_type": "stream",
     "text": [
      "<class 'pandas.core.frame.DataFrame'>\n",
      "RangeIndex: 121823 entries, 0 to 121822\n",
      "Data columns (total 16 columns):\n",
      " #   Column                  Non-Null Count   Dtype         \n",
      "---  ------                  --------------   -----         \n",
      " 0   message_time            121823 non-null  object        \n",
      " 1   route_id                121823 non-null  object        \n",
      " 2   unique_id               121823 non-null  object        \n",
      " 3   service_start_date      121823 non-null  datetime64[ns]\n",
      " 4   update_origin           117776 non-null  object        \n",
      " 5   train_platform          121823 non-null  object        \n",
      " 6   working_time_arrival    121823 non-null  object        \n",
      " 7   working_time_departure  121823 non-null  object        \n",
      " 8   planned_time_arrival    111060 non-null  object        \n",
      " 9   planned_time_departure  110507 non-null  object        \n",
      " 10  actual_arrival_time     100342 non-null  object        \n",
      " 11  actual_departure_time   112009 non-null  object        \n",
      " 12  platform                114701 non-null  object        \n",
      " 13  train_length            39335 non-null   float64       \n",
      " 14  is_delayed_arrival      121823 non-null  bool          \n",
      " 15  is_delayed_departure    121823 non-null  bool          \n",
      "dtypes: bool(2), datetime64[ns](1), float64(1), object(12)\n",
      "memory usage: 13.2+ MB\n"
     ]
    }
   ],
   "source": [
    "droppeddf.info()"
   ],
   "metadata": {
    "collapsed": false,
    "ExecuteTime": {
     "end_time": "2024-04-01T20:26:02.298438800Z",
     "start_time": "2024-04-01T20:26:02.204087900Z"
    }
   },
   "id": "4627494dfef0b41a",
   "execution_count": 18
  },
  {
   "cell_type": "code",
   "outputs": [
    {
     "name": "stdout",
     "output_type": "stream",
     "text": [
      "<class 'pandas.core.series.Series'>\n",
      "RangeIndex: 121823 entries, 0 to 121822\n",
      "Series name: planned_time_departure\n",
      "Non-Null Count   Dtype \n",
      "--------------   ----- \n",
      "110507 non-null  object\n",
      "dtypes: object(1)\n",
      "memory usage: 951.9+ KB\n"
     ]
    }
   ],
   "source": [
    "droppeddf['train_length'].value_counts()\n",
    "droppeddf['platform'].value_counts()\n",
    "droppeddf['planned_time_departure'].info()\n",
    "# droppeddf['planned_time_departure'].isna().sum()"
   ],
   "metadata": {
    "collapsed": false,
    "ExecuteTime": {
     "end_time": "2024-04-01T20:26:03.135966500Z",
     "start_time": "2024-04-01T20:26:03.066261800Z"
    }
   },
   "id": "18034b70e70f89a7",
   "execution_count": 19
  },
  {
   "cell_type": "code",
   "outputs": [
    {
     "data": {
      "text/plain": "7122"
     },
     "execution_count": 20,
     "metadata": {},
     "output_type": "execute_result"
    }
   ],
   "source": [
    "droppeddf['platform'].isnull().sum()\n"
   ],
   "metadata": {
    "collapsed": false,
    "ExecuteTime": {
     "end_time": "2024-04-01T20:26:03.872800Z",
     "start_time": "2024-04-01T20:26:03.833244600Z"
    }
   },
   "id": "53bf3abb55adfc40",
   "execution_count": 20
  },
  {
   "cell_type": "code",
   "outputs": [],
   "source": [
    "nonulldf=droppeddf\n",
    "nonulldf['platform'] = droppeddf['platform'].fillna('None Applicable')"
   ],
   "metadata": {
    "collapsed": false,
    "ExecuteTime": {
     "end_time": "2024-04-01T20:26:05.143873900Z",
     "start_time": "2024-04-01T20:26:05.120299100Z"
    }
   },
   "id": "d15c60ca0f594c3d",
   "execution_count": 21
  },
  {
   "cell_type": "code",
   "outputs": [
    {
     "data": {
      "text/plain": "train_length\n8.0     14437\n4.0      5242\n12.0     5197\n5.0      3835\n10.0     3019\n3.0      2957\n6.0      2951\n2.0      1353\n7.0       214\n9.0        91\n11.0       39\nName: count, dtype: int64"
     },
     "execution_count": 22,
     "metadata": {},
     "output_type": "execute_result"
    }
   ],
   "source": [
    "df['train_length'].mean()\n",
    "droppeddf['train_length'].value_counts()\n",
    "# df['train_length'].median()\n",
    "# df['train_length'].mode()"
   ],
   "metadata": {
    "collapsed": false,
    "ExecuteTime": {
     "end_time": "2024-04-01T20:26:07.943533900Z",
     "start_time": "2024-04-01T20:26:07.918512200Z"
    }
   },
   "id": "79d904e358437912",
   "execution_count": 22
  },
  {
   "cell_type": "code",
   "outputs": [
    {
     "data": {
      "text/plain": "message_time     route_id         unique_id  service_start_date  update_origin  train_platform  working_time_arrival  working_time_departure  planned_time_arrival  planned_time_departure  actual_arrival_time  actual_departure_time  platform  train_length  is_delayed_arrival  is_delayed_departure\n19:14:54.830408  202403306791976  C91976     2024-03-30          TD             HOOTON          19:11:30              19:12:00                19:12:00              19:12:00                19:16:00             19:16:00               2         8.0           False               False                   2\n14:47:03.195408  202403317122477  G22477     2024-03-31          CIS            MERSTHM         16:46:30              16:47:00                16:47:00              16:47:00                16:47:00             16:47:00               1         12.0          False               False                   2\n09:10:29.651408  202403317601485  L01485     2024-03-31          Trust          GOSPLOK         10:26:00              10:27:00                10:26:00              10:27:00                10:26:00             10:27:00               1         8.0           False               False                   2\n06:03:17.100408  202403306754807  C54807     2024-03-30          TD             LESTER          06:37:30              06:39:30                06:38:00              06:39:00                06:38:00             06:39:00               2         8.0           False               False                   2\n14:47:00.961408  202403318903890  Y03890     2024-03-31          Darwin         MOTFONT         15:52:00              15:52:30                15:52:00              15:52:00                15:55:00             15:55:00               2         8.0           False               False                   2\n                                                                                                                                                                                                                                                                                                           ..\n07:55:42.044408  202403316792620  C92620     2024-03-31          TD             BOOTLOR         09:04:00              09:04:30                09:04:00              09:04:00                09:04:00             09:05:00               2         8.0           False               False                   1\n                                                                                BOOTLNS         09:05:30              09:06:00                09:06:00              09:06:00                09:06:00             09:06:00               2         8.0           False               False                   1\n                                                                                BNKHALL         09:02:00              09:02:30                09:02:00              09:02:00                09:02:00             09:03:00               2         8.0           False               False                   1\n                                                                                BLNDLAC         09:12:30              09:13:00                09:13:00              09:13:00                09:13:00             09:13:00               2         8.0           False               False                   1\n23:56:00.772408  202403307107740  G07740     2024-03-30          Darwin         WARWPWY         23:34:30              23:36:00                23:35:00              23:36:00                00:20:00             00:21:00               2         5.0           True                True                    1\nName: count, Length: 86609, dtype: int64"
     },
     "execution_count": 23,
     "metadata": {},
     "output_type": "execute_result"
    }
   ],
   "source": [
    "nonulldf['train_length']=droppeddf['train_length'].fillna(8.0)\n",
    "nonulldf.value_counts()"
   ],
   "metadata": {
    "collapsed": false,
    "ExecuteTime": {
     "end_time": "2024-04-01T20:26:09.678420800Z",
     "start_time": "2024-04-01T20:26:09.319988200Z"
    }
   },
   "id": "d59717cc974370e6",
   "execution_count": 23
  },
  {
   "cell_type": "code",
   "outputs": [],
   "source": [
    "# nonulldf.mean()"
   ],
   "metadata": {
    "collapsed": false,
    "ExecuteTime": {
     "end_time": "2024-04-01T20:26:10.406724600Z",
     "start_time": "2024-04-01T20:26:10.377161200Z"
    }
   },
   "id": "76c2915bda668658",
   "execution_count": 24
  },
  {
   "cell_type": "code",
   "outputs": [
    {
     "data": {
      "text/plain": "21481"
     },
     "execution_count": 25,
     "metadata": {},
     "output_type": "execute_result"
    }
   ],
   "source": [
    "droppeddf['actual_arrival_time'].isna().sum()"
   ],
   "metadata": {
    "collapsed": false,
    "ExecuteTime": {
     "end_time": "2024-04-01T20:26:11.337951500Z",
     "start_time": "2024-04-01T20:26:11.313730Z"
    }
   },
   "id": "bb46830e7a256131",
   "execution_count": 25
  },
  {
   "cell_type": "code",
   "outputs": [
    {
     "name": "stdout",
     "output_type": "stream",
     "text": [
      "0 message_time\n",
      "13:58:22.943408    33\n",
      "19:19:56.605408    33\n",
      "02:51:00.178408    33\n",
      "15:12:01.407408    32\n",
      "09:10:29.651408    32\n",
      "                   ..\n",
      "17:22:31.758408     1\n",
      "17:22:32.245408     1\n",
      "23:24:15.662408     1\n",
      "23:24:15.682408     1\n",
      "17:22:39.225408     1\n",
      "Name: count, Length: 51420, dtype: int64\n",
      "0 route_id\n",
      "202403317076198    160\n",
      "202403308308198    130\n",
      "202403318049422    125\n",
      "202403308052246    112\n",
      "202403298118089    108\n",
      "                  ... \n",
      "202403317873810      1\n",
      "202403317873807      1\n",
      "202403317873806      1\n",
      "202403317873809      1\n",
      "202403317089883      1\n",
      "Name: count, Length: 24465, dtype: int64\n",
      "0 unique_id\n",
      "F76198    160\n",
      "S08198    130\n",
      "P49422    125\n",
      "P52246    112\n",
      "Q18089    108\n",
      "         ... \n",
      "W00511      1\n",
      "C13393      1\n",
      "F34252      1\n",
      "W33601      1\n",
      "F89883      1\n",
      "Name: count, Length: 24237, dtype: int64\n",
      "0 service_start_date\n",
      "2024-03-30    64498\n",
      "2024-03-31    38065\n",
      "2024-03-29    19241\n",
      "2024-04-01       19\n",
      "Name: count, dtype: int64\n",
      "4047 update_origin\n",
      "TD             45344\n",
      "Darwin         29494\n",
      "CIS            29375\n",
      "Trust          13115\n",
      "Tyrell           384\n",
      "Workstation       64\n",
      "Name: count, dtype: int64\n",
      "0 train_platform\n",
      "LNDNBDE    779\n",
      "ECROYDN    676\n",
      "WLSDNJL    563\n",
      "GTWK       549\n",
      "CLPHMJM    529\n",
      "          ... \n",
      "CWDN941      1\n",
      "COPR105      1\n",
      "STCN         1\n",
      "LLDODGF      1\n",
      "NLRT478      1\n",
      "Name: count, Length: 2810, dtype: int64\n",
      "121823 Series([], Name: count, dtype: int64)\n",
      "0 working_time_arrival\n",
      "00:01:00    151\n",
      "18:22:00    129\n",
      "17:59:00    118\n",
      "14:52:00    115\n",
      "17:26:00    108\n",
      "           ... \n",
      "01:46:30      1\n",
      "04:25:00      1\n",
      "02:46:30      1\n",
      "02:20:00      1\n",
      "01:47:00      1\n",
      "Name: count, Length: 2748, dtype: int64\n",
      "0 working_time_departure\n",
      "11:45:00    119\n",
      "08:35:00    118\n",
      "11:26:00    114\n",
      "17:47:00    113\n",
      "18:22:30    112\n",
      "           ... \n",
      "04:40:00      1\n",
      "04:47:30      1\n",
      "04:46:00      1\n",
      "01:37:30      1\n",
      "01:07:30      1\n",
      "Name: count, Length: 2741, dtype: int64\n",
      "10763 planned_time_arrival\n",
      "14:52:00    219\n",
      "18:22:00    205\n",
      "18:01:00    197\n",
      "18:25:00    188\n",
      "10:11:00    185\n",
      "           ... \n",
      "04:09:00      1\n",
      "04:01:00      1\n",
      "04:25:00      1\n",
      "04:43:00      1\n",
      "03:34:00      1\n",
      "Name: count, Length: 1361, dtype: int64\n",
      "11316 planned_time_departure\n",
      "09:52:00    199\n",
      "17:22:00    198\n",
      "17:47:00    197\n",
      "11:45:00    197\n",
      "11:26:00    191\n",
      "           ... \n",
      "03:45:00      1\n",
      "03:42:00      1\n",
      "04:01:00      1\n",
      "04:14:00      1\n",
      "02:57:00      1\n",
      "Name: count, Length: 1352, dtype: int64\n",
      "21481 actual_arrival_time\n",
      "18:01:00    179\n",
      "18:20:00    176\n",
      "09:35:00    171\n",
      "18:25:00    170\n",
      "15:52:00    166\n",
      "           ... \n",
      "02:34:00      1\n",
      "02:47:00      1\n",
      "02:31:00      1\n",
      "02:38:00      1\n",
      "03:35:00      1\n",
      "Name: count, Length: 1430, dtype: int64\n",
      "9814 actual_departure_time\n",
      "15:50:00    213\n",
      "14:35:00    201\n",
      "10:12:00    201\n",
      "18:01:00    198\n",
      "11:08:00    196\n",
      "           ... \n",
      "02:48:00      1\n",
      "03:06:00      1\n",
      "03:40:00      1\n",
      "02:15:00      1\n",
      "02:59:00      1\n",
      "Name: count, Length: 1429, dtype: int64\n",
      "7122 platform\n",
      "2      44684\n",
      "1      42657\n",
      "3       8799\n",
      "4       6430\n",
      "5       1751\n",
      "       ...  \n",
      "8C         1\n",
      "18         1\n",
      "DML        1\n",
      "GL1        1\n",
      "MS         1\n",
      "Name: count, Length: 120, dtype: int64\n",
      "82488 train_length\n",
      "8.0     14437\n",
      "4.0      5242\n",
      "12.0     5197\n",
      "5.0      3835\n",
      "10.0     3019\n",
      "3.0      2957\n",
      "6.0      2951\n",
      "2.0      1353\n",
      "7.0       214\n",
      "9.0        91\n",
      "11.0       39\n",
      "Name: count, dtype: int64\n",
      "121823 Series([], Name: count, dtype: int64)\n",
      "121823 Series([], Name: count, dtype: int64)\n",
      "121823 Series([], Name: count, dtype: int64)\n",
      "121823 Series([], Name: count, dtype: int64)\n",
      "0 is_delayed_arrival\n",
      "False    110986\n",
      "True      10837\n",
      "Name: count, dtype: int64\n",
      "0 is_delayed_departure\n",
      "False    110373\n",
      "True      11450\n",
      "Name: count, dtype: int64\n",
      "121823 Series([], Name: count, dtype: int64)\n",
      "121823 Series([], Name: count, dtype: int64)\n",
      "121823 Series([], Name: count, dtype: int64)\n"
     ]
    }
   ],
   "source": [
    "for column in column_names:\n",
    "    print(df[column].isna().sum(),df[column].value_counts())"
   ],
   "metadata": {
    "collapsed": false,
    "ExecuteTime": {
     "end_time": "2024-04-01T20:26:12.768112500Z",
     "start_time": "2024-04-01T20:26:12.278299200Z"
    }
   },
   "id": "a07d4c1b1cdc9ab8",
   "execution_count": 26
  },
  {
   "cell_type": "code",
   "outputs": [],
   "source": [],
   "metadata": {
    "collapsed": false,
    "ExecuteTime": {
     "end_time": "2024-04-01T20:26:17.883201400Z",
     "start_time": "2024-04-01T20:26:17.850780300Z"
    }
   },
   "id": "2dc5277408d86af9",
   "execution_count": 26
  },
  {
   "cell_type": "code",
   "outputs": [
    {
     "data": {
      "text/plain": "<Figure size 640x480 with 1 Axes>",
      "image/png": "[encoded data removed]"
     },
     "metadata": {},
     "output_type": "display_data"
    }
   ],
   "source": [
    "sns.barplot(y=nonulldf['train_length'],x=nonulldf['platform'],data=nonulldf)\n",
    "plt.xticks(rotation=90,fontsize=8)\n",
    "plt.show()"
   ],
   "metadata": {
    "collapsed": false,
    "ExecuteTime": {
     "end_time": "2024-04-01T20:26:23.161817900Z",
     "start_time": "2024-04-01T20:26:18.332774300Z"
    }
   },
   "id": "1186f0eb23ffee4e",
   "execution_count": 27
  },
  {
   "cell_type": "code",
   "outputs": [
    {
     "name": "stdout",
     "output_type": "stream",
     "text": [
      "<class 'pandas.core.frame.DataFrame'>\n",
      "RangeIndex: 121823 entries, 0 to 121822\n",
      "Data columns (total 16 columns):\n",
      " #   Column                  Non-Null Count   Dtype         \n",
      "---  ------                  --------------   -----         \n",
      " 0   message_time            121823 non-null  object        \n",
      " 1   route_id                121823 non-null  object        \n",
      " 2   unique_id               121823 non-null  object        \n",
      " 3   service_start_date      121823 non-null  datetime64[ns]\n",
      " 4   update_origin           117776 non-null  object        \n",
      " 5   train_platform          121823 non-null  object        \n",
      " 6   working_time_arrival    121823 non-null  object        \n",
      " 7   working_time_departure  121823 non-null  object        \n",
      " 8   planned_time_arrival    111060 non-null  object        \n",
      " 9   planned_time_departure  110507 non-null  object        \n",
      " 10  actual_arrival_time     100342 non-null  object        \n",
      " 11  actual_departure_time   112009 non-null  object        \n",
      " 12  platform                121823 non-null  object        \n",
      " 13  train_length            121823 non-null  float64       \n",
      " 14  is_delayed_arrival      121823 non-null  bool          \n",
      " 15  is_delayed_departure    121823 non-null  bool          \n",
      "dtypes: bool(2), datetime64[ns](1), float64(1), object(12)\n",
      "memory usage: 13.2+ MB\n"
     ]
    }
   ],
   "source": [
    "nonulldf.info()"
   ],
   "metadata": {
    "collapsed": false,
    "ExecuteTime": {
     "end_time": "2024-04-01T20:26:24.251035600Z",
     "start_time": "2024-04-01T20:26:24.161088Z"
    }
   },
   "id": "bd6822cfcec9e77e",
   "execution_count": 28
  },
  {
   "cell_type": "code",
   "outputs": [
    {
     "name": "stdout",
     "output_type": "stream",
     "text": [
      "<class 'pandas.core.frame.DataFrame'>\n",
      "RangeIndex: 121823 entries, 0 to 121822\n",
      "Data columns (total 16 columns):\n",
      " #   Column                  Non-Null Count   Dtype         \n",
      "---  ------                  --------------   -----         \n",
      " 0   message_time            121823 non-null  object        \n",
      " 1   route_id                121823 non-null  object        \n",
      " 2   unique_id               121823 non-null  object        \n",
      " 3   service_start_date      121823 non-null  datetime64[ns]\n",
      " 4   update_origin           117776 non-null  object        \n",
      " 5   train_platform          121823 non-null  object        \n",
      " 6   working_time_arrival    121823 non-null  object        \n",
      " 7   working_time_departure  121823 non-null  object        \n",
      " 8   planned_time_arrival    111060 non-null  object        \n",
      " 9   planned_time_departure  110507 non-null  object        \n",
      " 10  actual_arrival_time     100342 non-null  object        \n",
      " 11  actual_departure_time   112009 non-null  object        \n",
      " 12  platform                121823 non-null  object        \n",
      " 13  train_length            121823 non-null  float64       \n",
      " 14  is_delayed_arrival      121823 non-null  bool          \n",
      " 15  is_delayed_departure    121823 non-null  bool          \n",
      "dtypes: bool(2), datetime64[ns](1), float64(1), object(12)\n",
      "memory usage: 13.2+ MB\n"
     ]
    }
   ],
   "source": [
    "nonulldf['train_length'].astype(int)\n",
    "nonulldf.info()"
   ],
   "metadata": {
    "collapsed": false,
    "ExecuteTime": {
     "end_time": "2024-04-01T20:26:25.545061500Z",
     "start_time": "2024-04-01T20:26:25.457530900Z"
    }
   },
   "id": "89c4ee9fcd2be361",
   "execution_count": 29
  },
  {
   "cell_type": "code",
   "outputs": [
    {
     "data": {
      "text/plain": "0"
     },
     "execution_count": 30,
     "metadata": {},
     "output_type": "execute_result"
    }
   ],
   "source": [
    "nonulldf['train_length'].isnull().sum()"
   ],
   "metadata": {
    "collapsed": false,
    "ExecuteTime": {
     "end_time": "2024-04-01T20:26:26.213877Z",
     "start_time": "2024-04-01T20:26:26.182663100Z"
    }
   },
   "id": "7954def97603cdd2",
   "execution_count": 30
  },
  {
   "cell_type": "code",
   "outputs": [
    {
     "data": {
      "text/plain": "121823"
     },
     "execution_count": 31,
     "metadata": {},
     "output_type": "execute_result"
    }
   ],
   "source": [
    "nonulldf['train_length'].apply(lambda x: x.is_integer()).sum()"
   ],
   "metadata": {
    "collapsed": false,
    "ExecuteTime": {
     "end_time": "2024-04-01T20:26:27.908184500Z",
     "start_time": "2024-04-01T20:26:27.866900700Z"
    }
   },
   "id": "cad742373e1a5d2c",
   "execution_count": 31
  },
  {
   "cell_type": "code",
   "outputs": [],
   "source": [
    "nonulldf['train_length'] = pd.to_numeric(nonulldf['train_length'], errors='coerce')"
   ],
   "metadata": {
    "collapsed": false,
    "ExecuteTime": {
     "end_time": "2024-04-01T20:26:28.798426600Z",
     "start_time": "2024-04-01T20:26:28.791917800Z"
    }
   },
   "id": "9f8497eeb4bbc102",
   "execution_count": 32
  },
  {
   "cell_type": "code",
   "outputs": [
    {
     "name": "stdout",
     "output_type": "stream",
     "text": [
      "<class 'pandas.core.frame.DataFrame'>\n",
      "RangeIndex: 121823 entries, 0 to 121822\n",
      "Data columns (total 16 columns):\n",
      " #   Column                  Non-Null Count   Dtype         \n",
      "---  ------                  --------------   -----         \n",
      " 0   message_time            121823 non-null  object        \n",
      " 1   route_id                121823 non-null  object        \n",
      " 2   unique_id               121823 non-null  object        \n",
      " 3   service_start_date      121823 non-null  datetime64[ns]\n",
      " 4   update_origin           117776 non-null  object        \n",
      " 5   train_platform          121823 non-null  object        \n",
      " 6   working_time_arrival    121823 non-null  object        \n",
      " 7   working_time_departure  121823 non-null  object        \n",
      " 8   planned_time_arrival    111060 non-null  object        \n",
      " 9   planned_time_departure  110507 non-null  object        \n",
      " 10  actual_arrival_time     100342 non-null  object        \n",
      " 11  actual_departure_time   112009 non-null  object        \n",
      " 12  platform                121823 non-null  object        \n",
      " 13  train_length            121823 non-null  int32         \n",
      " 14  is_delayed_arrival      121823 non-null  bool          \n",
      " 15  is_delayed_departure    121823 non-null  bool          \n",
      "dtypes: bool(2), datetime64[ns](1), int32(1), object(12)\n",
      "memory usage: 12.8+ MB\n"
     ]
    }
   ],
   "source": [
    "nonulldf['train_length']= nonulldf['train_length'].astype(int)\n",
    "nonulldf.info()"
   ],
   "metadata": {
    "collapsed": false,
    "ExecuteTime": {
     "end_time": "2024-04-01T20:26:29.600620100Z",
     "start_time": "2024-04-01T20:26:29.486559600Z"
    }
   },
   "id": "93d51cef35c14d39",
   "execution_count": 33
  },
  {
   "cell_type": "code",
   "outputs": [
    {
     "data": {
      "text/plain": "train_length\n8     96925\n4      5242\n12     5197\n5      3835\n10     3019\n3      2957\n6      2951\n2      1353\n7       214\n9        91\n11       39\nName: count, dtype: int64"
     },
     "execution_count": 34,
     "metadata": {},
     "output_type": "execute_result"
    }
   ],
   "source": [
    "nonulldf['train_length'].value_counts()"
   ],
   "metadata": {
    "collapsed": false,
    "ExecuteTime": {
     "end_time": "2024-04-01T20:26:30.652372600Z",
     "start_time": "2024-04-01T20:26:30.630146800Z"
    }
   },
   "id": "a5e2800f3b598678",
   "execution_count": 34
  },
  {
   "cell_type": "code",
   "outputs": [],
   "source": [
    "testnadf=nonulldf.dropna()"
   ],
   "metadata": {
    "collapsed": false,
    "ExecuteTime": {
     "end_time": "2024-04-01T20:26:33.576878700Z",
     "start_time": "2024-04-01T20:26:33.461564400Z"
    }
   },
   "id": "75b9df5468e14218",
   "execution_count": 35
  },
  {
   "cell_type": "code",
   "outputs": [
    {
     "data": {
      "text/plain": "      message_time         route_id unique_id service_start_date  \\\n0  17:27:16.584408  202403297025211    F25211         2024-03-29   \n1  17:27:16.584408  202403297025211    F25211         2024-03-29   \n2  17:27:16.584408  202403297025211    F25211         2024-03-29   \n3  17:27:16.599408  202403297420713    J20713         2024-03-29   \n6  17:27:23.859408  202403298155319    Q55319         2024-03-29   \n\n  update_origin train_platform working_time_arrival working_time_departure  \\\n0            TD        ROMFORD             17:29:30               17:30:00   \n1            TD        SHENFLD             17:38:30               17:39:00   \n2            TD        BILERCY             17:44:30               17:49:30   \n3           CIS        CHLSFLD             17:27:30               17:28:00   \n6         Trust        RICHMND             17:27:30               17:28:30   \n\n  planned_time_arrival planned_time_departure actual_arrival_time  \\\n0             17:30:00               17:30:00            17:31:00   \n1             17:39:00               17:39:00            17:39:00   \n2             17:45:00               17:49:00            17:45:00   \n3             17:28:00               17:28:00            17:29:00   \n6             17:28:00               17:28:00            17:28:00   \n\n  actual_departure_time platform  train_length  is_delayed_arrival  \\\n0              17:31:00        3            10               False   \n1              17:39:00        4            10               False   \n2              17:49:00        2            10               False   \n3              17:30:00        2             8               False   \n6              17:29:00        1             8               False   \n\n   is_delayed_departure  \n0                 False  \n1                 False  \n2                 False  \n3                 False  \n6                 False  ",
      "text/html": "<div>\n<style scoped>\n    .dataframe tbody tr th:only-of-type {\n        vertical-align: middle;\n    }\n\n    .dataframe tbody tr th {\n        vertical-align: top;\n    }\n\n    .dataframe thead th {\n        text-align: right;\n    }\n</style>\n<table border=\"1\" class=\"dataframe\">\n  <thead>\n    <tr style=\"text-align: right;\">\n      <th></th>\n      <th>message_time</th>\n      <th>route_id</th>\n      <th>unique_id</th>\n      <th>service_start_date</th>\n      <th>update_origin</th>\n      <th>train_platform</th>\n      <th>working_time_arrival</th>\n      <th>working_time_departure</th>\n      <th>planned_time_arrival</th>\n      <th>planned_time_departure</th>\n      <th>actual_arrival_time</th>\n      <th>actual_departure_time</th>\n      <th>platform</th>\n      <th>train_length</th>\n      <th>is_delayed_arrival</th>\n      <th>is_delayed_departure</th>\n    </tr>\n  </thead>\n  <tbody>\n    <tr>\n      <th>0</th>\n      <td>17:27:16.584408</td>\n      <td>202403297025211</td>\n      <td>F25211</td>\n      <td>2024-03-29</td>\n      <td>TD</td>\n      <td>ROMFORD</td>\n      <td>17:29:30</td>\n      <td>17:30:00</td>\n      <td>17:30:00</td>\n      <td>17:30:00</td>\n      <td>17:31:00</td>\n      <td>17:31:00</td>\n      <td>3</td>\n      <td>10</td>\n      <td>False</td>\n      <td>False</td>\n    </tr>\n    <tr>\n      <th>1</th>\n      <td>17:27:16.584408</td>\n      <td>202403297025211</td>\n      <td>F25211</td>\n      <td>2024-03-29</td>\n      <td>TD</td>\n      <td>SHENFLD</td>\n      <td>17:38:30</td>\n      <td>17:39:00</td>\n      <td>17:39:00</td>\n      <td>17:39:00</td>\n      <td>17:39:00</td>\n      <td>17:39:00</td>\n      <td>4</td>\n      <td>10</td>\n      <td>False</td>\n      <td>False</td>\n    </tr>\n    <tr>\n      <th>2</th>\n      <td>17:27:16.584408</td>\n      <td>202403297025211</td>\n      <td>F25211</td>\n      <td>2024-03-29</td>\n      <td>TD</td>\n      <td>BILERCY</td>\n      <td>17:44:30</td>\n      <td>17:49:30</td>\n      <td>17:45:00</td>\n      <td>17:49:00</td>\n      <td>17:45:00</td>\n      <td>17:49:00</td>\n      <td>2</td>\n      <td>10</td>\n      <td>False</td>\n      <td>False</td>\n    </tr>\n    <tr>\n      <th>3</th>\n      <td>17:27:16.599408</td>\n      <td>202403297420713</td>\n      <td>J20713</td>\n      <td>2024-03-29</td>\n      <td>CIS</td>\n      <td>CHLSFLD</td>\n      <td>17:27:30</td>\n      <td>17:28:00</td>\n      <td>17:28:00</td>\n      <td>17:28:00</td>\n      <td>17:29:00</td>\n      <td>17:30:00</td>\n      <td>2</td>\n      <td>8</td>\n      <td>False</td>\n      <td>False</td>\n    </tr>\n    <tr>\n      <th>6</th>\n      <td>17:27:23.859408</td>\n      <td>202403298155319</td>\n      <td>Q55319</td>\n      <td>2024-03-29</td>\n      <td>Trust</td>\n      <td>RICHMND</td>\n      <td>17:27:30</td>\n      <td>17:28:30</td>\n      <td>17:28:00</td>\n      <td>17:28:00</td>\n      <td>17:28:00</td>\n      <td>17:29:00</td>\n      <td>1</td>\n      <td>8</td>\n      <td>False</td>\n      <td>False</td>\n    </tr>\n  </tbody>\n</table>\n</div>"
     },
     "execution_count": 36,
     "metadata": {},
     "output_type": "execute_result"
    }
   ],
   "source": [
    "testnadf.head()"
   ],
   "metadata": {
    "collapsed": false,
    "ExecuteTime": {
     "end_time": "2024-04-01T20:26:34.998257300Z",
     "start_time": "2024-04-01T20:26:34.968011600Z"
    }
   },
   "id": "7b6a00245b305780",
   "execution_count": 36
  },
  {
   "cell_type": "code",
   "outputs": [
    {
     "name": "stdout",
     "output_type": "stream",
     "text": [
      "<class 'pandas.core.frame.DataFrame'>\n",
      "Index: 86649 entries, 0 to 121822\n",
      "Data columns (total 16 columns):\n",
      " #   Column                  Non-Null Count  Dtype         \n",
      "---  ------                  --------------  -----         \n",
      " 0   message_time            86649 non-null  object        \n",
      " 1   route_id                86649 non-null  object        \n",
      " 2   unique_id               86649 non-null  object        \n",
      " 3   service_start_date      86649 non-null  datetime64[ns]\n",
      " 4   update_origin           86649 non-null  object        \n",
      " 5   train_platform          86649 non-null  object        \n",
      " 6   working_time_arrival    86649 non-null  object        \n",
      " 7   working_time_departure  86649 non-null  object        \n",
      " 8   planned_time_arrival    86649 non-null  object        \n",
      " 9   planned_time_departure  86649 non-null  object        \n",
      " 10  actual_arrival_time     86649 non-null  object        \n",
      " 11  actual_departure_time   86649 non-null  object        \n",
      " 12  platform                86649 non-null  object        \n",
      " 13  train_length            86649 non-null  int32         \n",
      " 14  is_delayed_arrival      86649 non-null  bool          \n",
      " 15  is_delayed_departure    86649 non-null  bool          \n",
      "dtypes: bool(2), datetime64[ns](1), int32(1), object(12)\n",
      "memory usage: 9.8+ MB\n"
     ]
    }
   ],
   "source": [
    "testnadf.info()"
   ],
   "metadata": {
    "collapsed": false,
    "ExecuteTime": {
     "end_time": "2024-04-01T20:26:36.043717300Z",
     "start_time": "2024-04-01T20:26:35.952603900Z"
    }
   },
   "id": "2c614ba312fd904c",
   "execution_count": 37
  },
  {
   "cell_type": "code",
   "outputs": [
    {
     "data": {
      "text/plain": "dtype('O')"
     },
     "execution_count": 40,
     "metadata": {},
     "output_type": "execute_result"
    }
   ],
   "source": [
    "testnadf['working_time_arrival'].dtype"
   ],
   "metadata": {
    "collapsed": false,
    "ExecuteTime": {
     "end_time": "2024-04-01T20:27:02.276163Z",
     "start_time": "2024-04-01T20:27:02.259775Z"
    }
   },
   "id": "5284f4983918bca",
   "execution_count": 40
  },
  {
   "cell_type": "code",
   "outputs": [
    {
     "name": "stdout",
     "output_type": "stream",
     "text": [
      "<class 'pandas.core.frame.DataFrame'>\n",
      "Index: 86649 entries, 0 to 121822\n",
      "Data columns (total 16 columns):\n",
      " #   Column                  Non-Null Count  Dtype         \n",
      "---  ------                  --------------  -----         \n",
      " 0   message_time            86649 non-null  object        \n",
      " 1   route_id                86649 non-null  object        \n",
      " 2   unique_id               86649 non-null  object        \n",
      " 3   service_start_date      86649 non-null  datetime64[ns]\n",
      " 4   update_origin           86649 non-null  object        \n",
      " 5   train_platform          86649 non-null  object        \n",
      " 6   working_time_arrival    86649 non-null  object        \n",
      " 7   working_time_departure  86649 non-null  object        \n",
      " 8   planned_time_arrival    86649 non-null  object        \n",
      " 9   planned_time_departure  86649 non-null  object        \n",
      " 10  actual_arrival_time     86649 non-null  object        \n",
      " 11  actual_departure_time   86649 non-null  object        \n",
      " 12  platform                86649 non-null  object        \n",
      " 13  train_length            86649 non-null  int32         \n",
      " 14  is_delayed_arrival      86649 non-null  bool          \n",
      " 15  is_delayed_departure    86649 non-null  bool          \n",
      "dtypes: bool(2), datetime64[ns](1), int32(1), object(12)\n",
      "memory usage: 9.8+ MB\n"
     ]
    }
   ],
   "source": [
    "testnadf.info()"
   ],
   "metadata": {
    "collapsed": false,
    "ExecuteTime": {
     "end_time": "2024-04-01T20:26:47.437274300Z",
     "start_time": "2024-04-01T20:26:47.344423400Z"
    }
   },
   "id": "22eee97e55e89c",
   "execution_count": 39
  },
  {
   "cell_type": "code",
   "outputs": [],
   "source": [
    "testnadf.loc[:,'working_time_departure'] = pd.to_datetime(testnadf['working_time_departure'],format='%H:%M:%S').astype(str)"
   ],
   "metadata": {
    "collapsed": false,
    "ExecuteTime": {
     "end_time": "2024-04-01T20:12:36.886484900Z",
     "start_time": "2024-04-01T20:12:36.676320Z"
    }
   },
   "id": "c1b0eaef60abb679",
   "execution_count": 258
  },
  {
   "cell_type": "code",
   "outputs": [
    {
     "name": "stdout",
     "output_type": "stream",
     "text": [
      "<class 'pandas.core.frame.DataFrame'>\n",
      "Index: 86649 entries, 0 to 121822\n",
      "Data columns (total 16 columns):\n",
      " #   Column                  Non-Null Count  Dtype         \n",
      "---  ------                  --------------  -----         \n",
      " 0   message_time            86649 non-null  object        \n",
      " 1   route_id                86649 non-null  object        \n",
      " 2   unique_id               86649 non-null  object        \n",
      " 3   service_start_date      86649 non-null  datetime64[ns]\n",
      " 4   update_origin           86649 non-null  object        \n",
      " 5   train_platform          86649 non-null  object        \n",
      " 6   working_time_arrival    86649 non-null  object        \n",
      " 7   working_time_departure  86649 non-null  object        \n",
      " 8   planned_time_arrival    86649 non-null  object        \n",
      " 9   planned_time_departure  86649 non-null  object        \n",
      " 10  actual_arrival_time     86649 non-null  object        \n",
      " 11  actual_departure_time   86649 non-null  object        \n",
      " 12  platform                86649 non-null  object        \n",
      " 13  train_length            86649 non-null  int32         \n",
      " 14  is_delayed_arrival      86649 non-null  bool          \n",
      " 15  is_delayed_departure    86649 non-null  bool          \n",
      "dtypes: bool(2), datetime64[ns](1), int32(1), object(12)\n",
      "memory usage: 9.8+ MB\n"
     ]
    }
   ],
   "source": [
    "testnadf.info()"
   ],
   "metadata": {
    "collapsed": false,
    "ExecuteTime": {
     "end_time": "2024-04-01T20:27:46.633000700Z",
     "start_time": "2024-04-01T20:27:46.551693800Z"
    }
   },
   "id": "a841e9771703b6d9",
   "execution_count": 43
  },
  {
   "cell_type": "code",
   "outputs": [
    {
     "data": {
      "text/plain": "0         17:29:30\n1         17:38:30\n2         17:44:30\n3         17:27:30\n6         17:27:30\n            ...   \n121818    16:49:00\n121819    17:12:00\n121820    17:14:00\n121821    17:16:30\n121822    17:20:30\nName: working_time_arrival, Length: 86649, dtype: object"
     },
     "execution_count": 48,
     "metadata": {},
     "output_type": "execute_result"
    }
   ],
   "source": [
    "testnadf['working_time_arrival']"
   ],
   "metadata": {
    "collapsed": false,
    "ExecuteTime": {
     "end_time": "2024-04-01T20:28:38.049229700Z",
     "start_time": "2024-04-01T20:28:38.016074300Z"
    }
   },
   "id": "8025848316108963",
   "execution_count": 48
  },
  {
   "cell_type": "code",
   "outputs": [
    {
     "data": {
      "text/plain": "datetime.time(17, 52)"
     },
     "execution_count": 50,
     "metadata": {},
     "output_type": "execute_result"
    }
   ],
   "source": [
    "testnadf['working_time_arrival'].iloc[524]"
   ],
   "metadata": {
    "collapsed": false,
    "ExecuteTime": {
     "end_time": "2024-04-01T20:29:52.607576200Z",
     "start_time": "2024-04-01T20:29:52.578861200Z"
    }
   },
   "id": "6b897a444ca24c5b",
   "execution_count": 50
  },
  {
   "cell_type": "code",
   "outputs": [],
   "source": [],
   "metadata": {
    "collapsed": false
   },
   "id": "60e13f6482a31878"
  }
 ],
 "metadata": {
  "kernelspec": {
   "display_name": "Python 3",
   "language": "python",
   "name": "python3"
  },
  "language_info": {
   "codemirror_mode": {
    "name": "ipython",
    "version": 2
   },
   "file_extension": ".py",
   "mimetype": "text/x-python",
   "name": "python",
   "nbconvert_exporter": "python",
   "pygments_lexer": "ipython2",
   "version": "2.7.6"
  }
 },
 "nbformat": 4,
 "nbformat_minor": 5
}
